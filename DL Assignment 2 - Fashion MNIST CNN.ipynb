{
  "nbformat": 4,
  "nbformat_minor": 0,
  "metadata": {
    "colab": {
      "name": "DL Assignment 2 - Fashion MNIST CNN",
      "provenance": [],
      "collapsed_sections": []
    },
    "kernelspec": {
      "name": "python3",
      "display_name": "Python 3"
    },
    "accelerator": "GPU",
    "widgets": {
      "application/vnd.jupyter.widget-state+json": {
        "92cfdee7281d4689a2c17499a696b481": {
          "model_module": "@jupyter-widgets/controls",
          "model_name": "HBoxModel",
          "state": {
            "_view_name": "HBoxView",
            "_dom_classes": [],
            "_model_name": "HBoxModel",
            "_view_module": "@jupyter-widgets/controls",
            "_model_module_version": "1.5.0",
            "_view_count": null,
            "_view_module_version": "1.5.0",
            "box_style": "",
            "layout": "IPY_MODEL_d7de2812bb6e4df88c1f5349f4f320e0",
            "_model_module": "@jupyter-widgets/controls",
            "children": [
              "IPY_MODEL_8ad74833bb114d5cb1905d4ac421b48b",
              "IPY_MODEL_173eb755b6de40b9a99f39ca26d64ad2"
            ]
          }
        },
        "d7de2812bb6e4df88c1f5349f4f320e0": {
          "model_module": "@jupyter-widgets/base",
          "model_name": "LayoutModel",
          "state": {
            "_view_name": "LayoutView",
            "grid_template_rows": null,
            "right": null,
            "justify_content": null,
            "_view_module": "@jupyter-widgets/base",
            "overflow": null,
            "_model_module_version": "1.2.0",
            "_view_count": null,
            "flex_flow": null,
            "width": null,
            "min_width": null,
            "border": null,
            "align_items": null,
            "bottom": null,
            "_model_module": "@jupyter-widgets/base",
            "top": null,
            "grid_column": null,
            "overflow_y": null,
            "overflow_x": null,
            "grid_auto_flow": null,
            "grid_area": null,
            "grid_template_columns": null,
            "flex": null,
            "_model_name": "LayoutModel",
            "justify_items": null,
            "grid_row": null,
            "max_height": null,
            "align_content": null,
            "visibility": null,
            "align_self": null,
            "height": null,
            "min_height": null,
            "padding": null,
            "grid_auto_rows": null,
            "grid_gap": null,
            "max_width": null,
            "order": null,
            "_view_module_version": "1.2.0",
            "grid_template_areas": null,
            "object_position": null,
            "object_fit": null,
            "grid_auto_columns": null,
            "margin": null,
            "display": null,
            "left": null
          }
        },
        "8ad74833bb114d5cb1905d4ac421b48b": {
          "model_module": "@jupyter-widgets/controls",
          "model_name": "FloatProgressModel",
          "state": {
            "_view_name": "ProgressView",
            "style": "IPY_MODEL_c8f92dbc73f14ea8a896b56140d09a8a",
            "_dom_classes": [],
            "description": "",
            "_model_name": "FloatProgressModel",
            "bar_style": "success",
            "max": 1,
            "_view_module": "@jupyter-widgets/controls",
            "_model_module_version": "1.5.0",
            "value": 1,
            "_view_count": null,
            "_view_module_version": "1.5.0",
            "orientation": "horizontal",
            "min": 0,
            "description_tooltip": null,
            "_model_module": "@jupyter-widgets/controls",
            "layout": "IPY_MODEL_006aa57ca1f548faa191ec243ce8db7f"
          }
        },
        "173eb755b6de40b9a99f39ca26d64ad2": {
          "model_module": "@jupyter-widgets/controls",
          "model_name": "HTMLModel",
          "state": {
            "_view_name": "HTMLView",
            "style": "IPY_MODEL_f7ece4c56d9e438f99c2d6548ffc0c22",
            "_dom_classes": [],
            "description": "",
            "_model_name": "HTMLModel",
            "placeholder": "​",
            "_view_module": "@jupyter-widgets/controls",
            "_model_module_version": "1.5.0",
            "value": " 26427392/? [00:05&lt;00:00, 4713715.77it/s]",
            "_view_count": null,
            "_view_module_version": "1.5.0",
            "description_tooltip": null,
            "_model_module": "@jupyter-widgets/controls",
            "layout": "IPY_MODEL_7a021211cb0e48988061e27d166fad2a"
          }
        },
        "c8f92dbc73f14ea8a896b56140d09a8a": {
          "model_module": "@jupyter-widgets/controls",
          "model_name": "ProgressStyleModel",
          "state": {
            "_view_name": "StyleView",
            "_model_name": "ProgressStyleModel",
            "description_width": "initial",
            "_view_module": "@jupyter-widgets/base",
            "_model_module_version": "1.5.0",
            "_view_count": null,
            "_view_module_version": "1.2.0",
            "bar_color": null,
            "_model_module": "@jupyter-widgets/controls"
          }
        },
        "006aa57ca1f548faa191ec243ce8db7f": {
          "model_module": "@jupyter-widgets/base",
          "model_name": "LayoutModel",
          "state": {
            "_view_name": "LayoutView",
            "grid_template_rows": null,
            "right": null,
            "justify_content": null,
            "_view_module": "@jupyter-widgets/base",
            "overflow": null,
            "_model_module_version": "1.2.0",
            "_view_count": null,
            "flex_flow": null,
            "width": null,
            "min_width": null,
            "border": null,
            "align_items": null,
            "bottom": null,
            "_model_module": "@jupyter-widgets/base",
            "top": null,
            "grid_column": null,
            "overflow_y": null,
            "overflow_x": null,
            "grid_auto_flow": null,
            "grid_area": null,
            "grid_template_columns": null,
            "flex": null,
            "_model_name": "LayoutModel",
            "justify_items": null,
            "grid_row": null,
            "max_height": null,
            "align_content": null,
            "visibility": null,
            "align_self": null,
            "height": null,
            "min_height": null,
            "padding": null,
            "grid_auto_rows": null,
            "grid_gap": null,
            "max_width": null,
            "order": null,
            "_view_module_version": "1.2.0",
            "grid_template_areas": null,
            "object_position": null,
            "object_fit": null,
            "grid_auto_columns": null,
            "margin": null,
            "display": null,
            "left": null
          }
        },
        "f7ece4c56d9e438f99c2d6548ffc0c22": {
          "model_module": "@jupyter-widgets/controls",
          "model_name": "DescriptionStyleModel",
          "state": {
            "_view_name": "StyleView",
            "_model_name": "DescriptionStyleModel",
            "description_width": "",
            "_view_module": "@jupyter-widgets/base",
            "_model_module_version": "1.5.0",
            "_view_count": null,
            "_view_module_version": "1.2.0",
            "_model_module": "@jupyter-widgets/controls"
          }
        },
        "7a021211cb0e48988061e27d166fad2a": {
          "model_module": "@jupyter-widgets/base",
          "model_name": "LayoutModel",
          "state": {
            "_view_name": "LayoutView",
            "grid_template_rows": null,
            "right": null,
            "justify_content": null,
            "_view_module": "@jupyter-widgets/base",
            "overflow": null,
            "_model_module_version": "1.2.0",
            "_view_count": null,
            "flex_flow": null,
            "width": null,
            "min_width": null,
            "border": null,
            "align_items": null,
            "bottom": null,
            "_model_module": "@jupyter-widgets/base",
            "top": null,
            "grid_column": null,
            "overflow_y": null,
            "overflow_x": null,
            "grid_auto_flow": null,
            "grid_area": null,
            "grid_template_columns": null,
            "flex": null,
            "_model_name": "LayoutModel",
            "justify_items": null,
            "grid_row": null,
            "max_height": null,
            "align_content": null,
            "visibility": null,
            "align_self": null,
            "height": null,
            "min_height": null,
            "padding": null,
            "grid_auto_rows": null,
            "grid_gap": null,
            "max_width": null,
            "order": null,
            "_view_module_version": "1.2.0",
            "grid_template_areas": null,
            "object_position": null,
            "object_fit": null,
            "grid_auto_columns": null,
            "margin": null,
            "display": null,
            "left": null
          }
        },
        "77e5e9f8e1704b1090f3eead21d54ca3": {
          "model_module": "@jupyter-widgets/controls",
          "model_name": "HBoxModel",
          "state": {
            "_view_name": "HBoxView",
            "_dom_classes": [],
            "_model_name": "HBoxModel",
            "_view_module": "@jupyter-widgets/controls",
            "_model_module_version": "1.5.0",
            "_view_count": null,
            "_view_module_version": "1.5.0",
            "box_style": "",
            "layout": "IPY_MODEL_cd75d4accfe548eabb8d05661bcf0525",
            "_model_module": "@jupyter-widgets/controls",
            "children": [
              "IPY_MODEL_316dde4354154074b4db9dd580f1f88e",
              "IPY_MODEL_558f1cef5c8148b58065f1fd06261c63"
            ]
          }
        },
        "cd75d4accfe548eabb8d05661bcf0525": {
          "model_module": "@jupyter-widgets/base",
          "model_name": "LayoutModel",
          "state": {
            "_view_name": "LayoutView",
            "grid_template_rows": null,
            "right": null,
            "justify_content": null,
            "_view_module": "@jupyter-widgets/base",
            "overflow": null,
            "_model_module_version": "1.2.0",
            "_view_count": null,
            "flex_flow": null,
            "width": null,
            "min_width": null,
            "border": null,
            "align_items": null,
            "bottom": null,
            "_model_module": "@jupyter-widgets/base",
            "top": null,
            "grid_column": null,
            "overflow_y": null,
            "overflow_x": null,
            "grid_auto_flow": null,
            "grid_area": null,
            "grid_template_columns": null,
            "flex": null,
            "_model_name": "LayoutModel",
            "justify_items": null,
            "grid_row": null,
            "max_height": null,
            "align_content": null,
            "visibility": null,
            "align_self": null,
            "height": null,
            "min_height": null,
            "padding": null,
            "grid_auto_rows": null,
            "grid_gap": null,
            "max_width": null,
            "order": null,
            "_view_module_version": "1.2.0",
            "grid_template_areas": null,
            "object_position": null,
            "object_fit": null,
            "grid_auto_columns": null,
            "margin": null,
            "display": null,
            "left": null
          }
        },
        "316dde4354154074b4db9dd580f1f88e": {
          "model_module": "@jupyter-widgets/controls",
          "model_name": "FloatProgressModel",
          "state": {
            "_view_name": "ProgressView",
            "style": "IPY_MODEL_1d46085aa0834aa486a32ccb9761e8ae",
            "_dom_classes": [],
            "description": "",
            "_model_name": "FloatProgressModel",
            "bar_style": "success",
            "max": 1,
            "_view_module": "@jupyter-widgets/controls",
            "_model_module_version": "1.5.0",
            "value": 1,
            "_view_count": null,
            "_view_module_version": "1.5.0",
            "orientation": "horizontal",
            "min": 0,
            "description_tooltip": null,
            "_model_module": "@jupyter-widgets/controls",
            "layout": "IPY_MODEL_4456dafe41c34651a9b01f6a57879b12"
          }
        },
        "558f1cef5c8148b58065f1fd06261c63": {
          "model_module": "@jupyter-widgets/controls",
          "model_name": "HTMLModel",
          "state": {
            "_view_name": "HTMLView",
            "style": "IPY_MODEL_dd0b793d292d497ea80d2a8be23b67d2",
            "_dom_classes": [],
            "description": "",
            "_model_name": "HTMLModel",
            "placeholder": "​",
            "_view_module": "@jupyter-widgets/controls",
            "_model_module_version": "1.5.0",
            "value": " 32768/? [00:02&lt;00:00, 12320.02it/s]",
            "_view_count": null,
            "_view_module_version": "1.5.0",
            "description_tooltip": null,
            "_model_module": "@jupyter-widgets/controls",
            "layout": "IPY_MODEL_22b5458ab9fc40b982a3333a30636f5c"
          }
        },
        "1d46085aa0834aa486a32ccb9761e8ae": {
          "model_module": "@jupyter-widgets/controls",
          "model_name": "ProgressStyleModel",
          "state": {
            "_view_name": "StyleView",
            "_model_name": "ProgressStyleModel",
            "description_width": "initial",
            "_view_module": "@jupyter-widgets/base",
            "_model_module_version": "1.5.0",
            "_view_count": null,
            "_view_module_version": "1.2.0",
            "bar_color": null,
            "_model_module": "@jupyter-widgets/controls"
          }
        },
        "4456dafe41c34651a9b01f6a57879b12": {
          "model_module": "@jupyter-widgets/base",
          "model_name": "LayoutModel",
          "state": {
            "_view_name": "LayoutView",
            "grid_template_rows": null,
            "right": null,
            "justify_content": null,
            "_view_module": "@jupyter-widgets/base",
            "overflow": null,
            "_model_module_version": "1.2.0",
            "_view_count": null,
            "flex_flow": null,
            "width": null,
            "min_width": null,
            "border": null,
            "align_items": null,
            "bottom": null,
            "_model_module": "@jupyter-widgets/base",
            "top": null,
            "grid_column": null,
            "overflow_y": null,
            "overflow_x": null,
            "grid_auto_flow": null,
            "grid_area": null,
            "grid_template_columns": null,
            "flex": null,
            "_model_name": "LayoutModel",
            "justify_items": null,
            "grid_row": null,
            "max_height": null,
            "align_content": null,
            "visibility": null,
            "align_self": null,
            "height": null,
            "min_height": null,
            "padding": null,
            "grid_auto_rows": null,
            "grid_gap": null,
            "max_width": null,
            "order": null,
            "_view_module_version": "1.2.0",
            "grid_template_areas": null,
            "object_position": null,
            "object_fit": null,
            "grid_auto_columns": null,
            "margin": null,
            "display": null,
            "left": null
          }
        },
        "dd0b793d292d497ea80d2a8be23b67d2": {
          "model_module": "@jupyter-widgets/controls",
          "model_name": "DescriptionStyleModel",
          "state": {
            "_view_name": "StyleView",
            "_model_name": "DescriptionStyleModel",
            "description_width": "",
            "_view_module": "@jupyter-widgets/base",
            "_model_module_version": "1.5.0",
            "_view_count": null,
            "_view_module_version": "1.2.0",
            "_model_module": "@jupyter-widgets/controls"
          }
        },
        "22b5458ab9fc40b982a3333a30636f5c": {
          "model_module": "@jupyter-widgets/base",
          "model_name": "LayoutModel",
          "state": {
            "_view_name": "LayoutView",
            "grid_template_rows": null,
            "right": null,
            "justify_content": null,
            "_view_module": "@jupyter-widgets/base",
            "overflow": null,
            "_model_module_version": "1.2.0",
            "_view_count": null,
            "flex_flow": null,
            "width": null,
            "min_width": null,
            "border": null,
            "align_items": null,
            "bottom": null,
            "_model_module": "@jupyter-widgets/base",
            "top": null,
            "grid_column": null,
            "overflow_y": null,
            "overflow_x": null,
            "grid_auto_flow": null,
            "grid_area": null,
            "grid_template_columns": null,
            "flex": null,
            "_model_name": "LayoutModel",
            "justify_items": null,
            "grid_row": null,
            "max_height": null,
            "align_content": null,
            "visibility": null,
            "align_self": null,
            "height": null,
            "min_height": null,
            "padding": null,
            "grid_auto_rows": null,
            "grid_gap": null,
            "max_width": null,
            "order": null,
            "_view_module_version": "1.2.0",
            "grid_template_areas": null,
            "object_position": null,
            "object_fit": null,
            "grid_auto_columns": null,
            "margin": null,
            "display": null,
            "left": null
          }
        },
        "21a6738b0dcd448595179dfc5ace229b": {
          "model_module": "@jupyter-widgets/controls",
          "model_name": "HBoxModel",
          "state": {
            "_view_name": "HBoxView",
            "_dom_classes": [],
            "_model_name": "HBoxModel",
            "_view_module": "@jupyter-widgets/controls",
            "_model_module_version": "1.5.0",
            "_view_count": null,
            "_view_module_version": "1.5.0",
            "box_style": "",
            "layout": "IPY_MODEL_95cc896288c74b7abd38f146e4365e8d",
            "_model_module": "@jupyter-widgets/controls",
            "children": [
              "IPY_MODEL_bf76ee96c4874ae0b8b03eda69a1e545",
              "IPY_MODEL_43311fae6df74995bdffd0430fad833d"
            ]
          }
        },
        "95cc896288c74b7abd38f146e4365e8d": {
          "model_module": "@jupyter-widgets/base",
          "model_name": "LayoutModel",
          "state": {
            "_view_name": "LayoutView",
            "grid_template_rows": null,
            "right": null,
            "justify_content": null,
            "_view_module": "@jupyter-widgets/base",
            "overflow": null,
            "_model_module_version": "1.2.0",
            "_view_count": null,
            "flex_flow": null,
            "width": null,
            "min_width": null,
            "border": null,
            "align_items": null,
            "bottom": null,
            "_model_module": "@jupyter-widgets/base",
            "top": null,
            "grid_column": null,
            "overflow_y": null,
            "overflow_x": null,
            "grid_auto_flow": null,
            "grid_area": null,
            "grid_template_columns": null,
            "flex": null,
            "_model_name": "LayoutModel",
            "justify_items": null,
            "grid_row": null,
            "max_height": null,
            "align_content": null,
            "visibility": null,
            "align_self": null,
            "height": null,
            "min_height": null,
            "padding": null,
            "grid_auto_rows": null,
            "grid_gap": null,
            "max_width": null,
            "order": null,
            "_view_module_version": "1.2.0",
            "grid_template_areas": null,
            "object_position": null,
            "object_fit": null,
            "grid_auto_columns": null,
            "margin": null,
            "display": null,
            "left": null
          }
        },
        "bf76ee96c4874ae0b8b03eda69a1e545": {
          "model_module": "@jupyter-widgets/controls",
          "model_name": "FloatProgressModel",
          "state": {
            "_view_name": "ProgressView",
            "style": "IPY_MODEL_6c615ef4679e4b73a6f5eb6e5c6c9e07",
            "_dom_classes": [],
            "description": "",
            "_model_name": "FloatProgressModel",
            "bar_style": "success",
            "max": 1,
            "_view_module": "@jupyter-widgets/controls",
            "_model_module_version": "1.5.0",
            "value": 1,
            "_view_count": null,
            "_view_module_version": "1.5.0",
            "orientation": "horizontal",
            "min": 0,
            "description_tooltip": null,
            "_model_module": "@jupyter-widgets/controls",
            "layout": "IPY_MODEL_b210202b73f1478c9366f0423fa3f19d"
          }
        },
        "43311fae6df74995bdffd0430fad833d": {
          "model_module": "@jupyter-widgets/controls",
          "model_name": "HTMLModel",
          "state": {
            "_view_name": "HTMLView",
            "style": "IPY_MODEL_f0d26e2276ec4d90a23ca7ba2a846aaa",
            "_dom_classes": [],
            "description": "",
            "_model_name": "HTMLModel",
            "placeholder": "​",
            "_view_module": "@jupyter-widgets/controls",
            "_model_module_version": "1.5.0",
            "value": " 4423680/? [00:02&lt;00:00, 2077056.99it/s]",
            "_view_count": null,
            "_view_module_version": "1.5.0",
            "description_tooltip": null,
            "_model_module": "@jupyter-widgets/controls",
            "layout": "IPY_MODEL_4232b42c05034505ab6457be09329672"
          }
        },
        "6c615ef4679e4b73a6f5eb6e5c6c9e07": {
          "model_module": "@jupyter-widgets/controls",
          "model_name": "ProgressStyleModel",
          "state": {
            "_view_name": "StyleView",
            "_model_name": "ProgressStyleModel",
            "description_width": "initial",
            "_view_module": "@jupyter-widgets/base",
            "_model_module_version": "1.5.0",
            "_view_count": null,
            "_view_module_version": "1.2.0",
            "bar_color": null,
            "_model_module": "@jupyter-widgets/controls"
          }
        },
        "b210202b73f1478c9366f0423fa3f19d": {
          "model_module": "@jupyter-widgets/base",
          "model_name": "LayoutModel",
          "state": {
            "_view_name": "LayoutView",
            "grid_template_rows": null,
            "right": null,
            "justify_content": null,
            "_view_module": "@jupyter-widgets/base",
            "overflow": null,
            "_model_module_version": "1.2.0",
            "_view_count": null,
            "flex_flow": null,
            "width": null,
            "min_width": null,
            "border": null,
            "align_items": null,
            "bottom": null,
            "_model_module": "@jupyter-widgets/base",
            "top": null,
            "grid_column": null,
            "overflow_y": null,
            "overflow_x": null,
            "grid_auto_flow": null,
            "grid_area": null,
            "grid_template_columns": null,
            "flex": null,
            "_model_name": "LayoutModel",
            "justify_items": null,
            "grid_row": null,
            "max_height": null,
            "align_content": null,
            "visibility": null,
            "align_self": null,
            "height": null,
            "min_height": null,
            "padding": null,
            "grid_auto_rows": null,
            "grid_gap": null,
            "max_width": null,
            "order": null,
            "_view_module_version": "1.2.0",
            "grid_template_areas": null,
            "object_position": null,
            "object_fit": null,
            "grid_auto_columns": null,
            "margin": null,
            "display": null,
            "left": null
          }
        },
        "f0d26e2276ec4d90a23ca7ba2a846aaa": {
          "model_module": "@jupyter-widgets/controls",
          "model_name": "DescriptionStyleModel",
          "state": {
            "_view_name": "StyleView",
            "_model_name": "DescriptionStyleModel",
            "description_width": "",
            "_view_module": "@jupyter-widgets/base",
            "_model_module_version": "1.5.0",
            "_view_count": null,
            "_view_module_version": "1.2.0",
            "_model_module": "@jupyter-widgets/controls"
          }
        },
        "4232b42c05034505ab6457be09329672": {
          "model_module": "@jupyter-widgets/base",
          "model_name": "LayoutModel",
          "state": {
            "_view_name": "LayoutView",
            "grid_template_rows": null,
            "right": null,
            "justify_content": null,
            "_view_module": "@jupyter-widgets/base",
            "overflow": null,
            "_model_module_version": "1.2.0",
            "_view_count": null,
            "flex_flow": null,
            "width": null,
            "min_width": null,
            "border": null,
            "align_items": null,
            "bottom": null,
            "_model_module": "@jupyter-widgets/base",
            "top": null,
            "grid_column": null,
            "overflow_y": null,
            "overflow_x": null,
            "grid_auto_flow": null,
            "grid_area": null,
            "grid_template_columns": null,
            "flex": null,
            "_model_name": "LayoutModel",
            "justify_items": null,
            "grid_row": null,
            "max_height": null,
            "align_content": null,
            "visibility": null,
            "align_self": null,
            "height": null,
            "min_height": null,
            "padding": null,
            "grid_auto_rows": null,
            "grid_gap": null,
            "max_width": null,
            "order": null,
            "_view_module_version": "1.2.0",
            "grid_template_areas": null,
            "object_position": null,
            "object_fit": null,
            "grid_auto_columns": null,
            "margin": null,
            "display": null,
            "left": null
          }
        },
        "853002bfd9ec436b884b7799cb7b252e": {
          "model_module": "@jupyter-widgets/controls",
          "model_name": "HBoxModel",
          "state": {
            "_view_name": "HBoxView",
            "_dom_classes": [],
            "_model_name": "HBoxModel",
            "_view_module": "@jupyter-widgets/controls",
            "_model_module_version": "1.5.0",
            "_view_count": null,
            "_view_module_version": "1.5.0",
            "box_style": "",
            "layout": "IPY_MODEL_b80ad6e0784a4027875d53e415213569",
            "_model_module": "@jupyter-widgets/controls",
            "children": [
              "IPY_MODEL_86a8ca23ee964ad184412054c82315eb",
              "IPY_MODEL_fc40890f23284d96b0670a49a2e4caa1"
            ]
          }
        },
        "b80ad6e0784a4027875d53e415213569": {
          "model_module": "@jupyter-widgets/base",
          "model_name": "LayoutModel",
          "state": {
            "_view_name": "LayoutView",
            "grid_template_rows": null,
            "right": null,
            "justify_content": null,
            "_view_module": "@jupyter-widgets/base",
            "overflow": null,
            "_model_module_version": "1.2.0",
            "_view_count": null,
            "flex_flow": null,
            "width": null,
            "min_width": null,
            "border": null,
            "align_items": null,
            "bottom": null,
            "_model_module": "@jupyter-widgets/base",
            "top": null,
            "grid_column": null,
            "overflow_y": null,
            "overflow_x": null,
            "grid_auto_flow": null,
            "grid_area": null,
            "grid_template_columns": null,
            "flex": null,
            "_model_name": "LayoutModel",
            "justify_items": null,
            "grid_row": null,
            "max_height": null,
            "align_content": null,
            "visibility": null,
            "align_self": null,
            "height": null,
            "min_height": null,
            "padding": null,
            "grid_auto_rows": null,
            "grid_gap": null,
            "max_width": null,
            "order": null,
            "_view_module_version": "1.2.0",
            "grid_template_areas": null,
            "object_position": null,
            "object_fit": null,
            "grid_auto_columns": null,
            "margin": null,
            "display": null,
            "left": null
          }
        },
        "86a8ca23ee964ad184412054c82315eb": {
          "model_module": "@jupyter-widgets/controls",
          "model_name": "FloatProgressModel",
          "state": {
            "_view_name": "ProgressView",
            "style": "IPY_MODEL_c980f5b8e238461e99ca219e89b52b99",
            "_dom_classes": [],
            "description": "",
            "_model_name": "FloatProgressModel",
            "bar_style": "success",
            "max": 1,
            "_view_module": "@jupyter-widgets/controls",
            "_model_module_version": "1.5.0",
            "value": 1,
            "_view_count": null,
            "_view_module_version": "1.5.0",
            "orientation": "horizontal",
            "min": 0,
            "description_tooltip": null,
            "_model_module": "@jupyter-widgets/controls",
            "layout": "IPY_MODEL_5d87b9f7f518448f89b5e8a54fd6444a"
          }
        },
        "fc40890f23284d96b0670a49a2e4caa1": {
          "model_module": "@jupyter-widgets/controls",
          "model_name": "HTMLModel",
          "state": {
            "_view_name": "HTMLView",
            "style": "IPY_MODEL_e0c66f7bfce1486b8634da44ed413927",
            "_dom_classes": [],
            "description": "",
            "_model_name": "HTMLModel",
            "placeholder": "​",
            "_view_module": "@jupyter-widgets/controls",
            "_model_module_version": "1.5.0",
            "value": " 8192/? [00:00&lt;00:00, 13124.34it/s]",
            "_view_count": null,
            "_view_module_version": "1.5.0",
            "description_tooltip": null,
            "_model_module": "@jupyter-widgets/controls",
            "layout": "IPY_MODEL_1a9d0c0101ce421e872634088226cc27"
          }
        },
        "c980f5b8e238461e99ca219e89b52b99": {
          "model_module": "@jupyter-widgets/controls",
          "model_name": "ProgressStyleModel",
          "state": {
            "_view_name": "StyleView",
            "_model_name": "ProgressStyleModel",
            "description_width": "initial",
            "_view_module": "@jupyter-widgets/base",
            "_model_module_version": "1.5.0",
            "_view_count": null,
            "_view_module_version": "1.2.0",
            "bar_color": null,
            "_model_module": "@jupyter-widgets/controls"
          }
        },
        "5d87b9f7f518448f89b5e8a54fd6444a": {
          "model_module": "@jupyter-widgets/base",
          "model_name": "LayoutModel",
          "state": {
            "_view_name": "LayoutView",
            "grid_template_rows": null,
            "right": null,
            "justify_content": null,
            "_view_module": "@jupyter-widgets/base",
            "overflow": null,
            "_model_module_version": "1.2.0",
            "_view_count": null,
            "flex_flow": null,
            "width": null,
            "min_width": null,
            "border": null,
            "align_items": null,
            "bottom": null,
            "_model_module": "@jupyter-widgets/base",
            "top": null,
            "grid_column": null,
            "overflow_y": null,
            "overflow_x": null,
            "grid_auto_flow": null,
            "grid_area": null,
            "grid_template_columns": null,
            "flex": null,
            "_model_name": "LayoutModel",
            "justify_items": null,
            "grid_row": null,
            "max_height": null,
            "align_content": null,
            "visibility": null,
            "align_self": null,
            "height": null,
            "min_height": null,
            "padding": null,
            "grid_auto_rows": null,
            "grid_gap": null,
            "max_width": null,
            "order": null,
            "_view_module_version": "1.2.0",
            "grid_template_areas": null,
            "object_position": null,
            "object_fit": null,
            "grid_auto_columns": null,
            "margin": null,
            "display": null,
            "left": null
          }
        },
        "e0c66f7bfce1486b8634da44ed413927": {
          "model_module": "@jupyter-widgets/controls",
          "model_name": "DescriptionStyleModel",
          "state": {
            "_view_name": "StyleView",
            "_model_name": "DescriptionStyleModel",
            "description_width": "",
            "_view_module": "@jupyter-widgets/base",
            "_model_module_version": "1.5.0",
            "_view_count": null,
            "_view_module_version": "1.2.0",
            "_model_module": "@jupyter-widgets/controls"
          }
        },
        "1a9d0c0101ce421e872634088226cc27": {
          "model_module": "@jupyter-widgets/base",
          "model_name": "LayoutModel",
          "state": {
            "_view_name": "LayoutView",
            "grid_template_rows": null,
            "right": null,
            "justify_content": null,
            "_view_module": "@jupyter-widgets/base",
            "overflow": null,
            "_model_module_version": "1.2.0",
            "_view_count": null,
            "flex_flow": null,
            "width": null,
            "min_width": null,
            "border": null,
            "align_items": null,
            "bottom": null,
            "_model_module": "@jupyter-widgets/base",
            "top": null,
            "grid_column": null,
            "overflow_y": null,
            "overflow_x": null,
            "grid_auto_flow": null,
            "grid_area": null,
            "grid_template_columns": null,
            "flex": null,
            "_model_name": "LayoutModel",
            "justify_items": null,
            "grid_row": null,
            "max_height": null,
            "align_content": null,
            "visibility": null,
            "align_self": null,
            "height": null,
            "min_height": null,
            "padding": null,
            "grid_auto_rows": null,
            "grid_gap": null,
            "max_width": null,
            "order": null,
            "_view_module_version": "1.2.0",
            "grid_template_areas": null,
            "object_position": null,
            "object_fit": null,
            "grid_auto_columns": null,
            "margin": null,
            "display": null,
            "left": null
          }
        },
        "27e9a3b0980b4afba6e638b763205946": {
          "model_module": "@jupyter-widgets/controls",
          "model_name": "HBoxModel",
          "state": {
            "_view_name": "HBoxView",
            "_dom_classes": [],
            "_model_name": "HBoxModel",
            "_view_module": "@jupyter-widgets/controls",
            "_model_module_version": "1.5.0",
            "_view_count": null,
            "_view_module_version": "1.5.0",
            "box_style": "",
            "layout": "IPY_MODEL_93ad629ff08d47e2a5e5ee6f0b7618a3",
            "_model_module": "@jupyter-widgets/controls",
            "children": [
              "IPY_MODEL_f81ec69ee7ae416aab8256f629751b16",
              "IPY_MODEL_581f264794e24e7b89c3f66a86bd9dc5"
            ]
          }
        },
        "93ad629ff08d47e2a5e5ee6f0b7618a3": {
          "model_module": "@jupyter-widgets/base",
          "model_name": "LayoutModel",
          "state": {
            "_view_name": "LayoutView",
            "grid_template_rows": null,
            "right": null,
            "justify_content": null,
            "_view_module": "@jupyter-widgets/base",
            "overflow": null,
            "_model_module_version": "1.2.0",
            "_view_count": null,
            "flex_flow": null,
            "width": null,
            "min_width": null,
            "border": null,
            "align_items": null,
            "bottom": null,
            "_model_module": "@jupyter-widgets/base",
            "top": null,
            "grid_column": null,
            "overflow_y": null,
            "overflow_x": null,
            "grid_auto_flow": null,
            "grid_area": null,
            "grid_template_columns": null,
            "flex": null,
            "_model_name": "LayoutModel",
            "justify_items": null,
            "grid_row": null,
            "max_height": null,
            "align_content": null,
            "visibility": null,
            "align_self": null,
            "height": null,
            "min_height": null,
            "padding": null,
            "grid_auto_rows": null,
            "grid_gap": null,
            "max_width": null,
            "order": null,
            "_view_module_version": "1.2.0",
            "grid_template_areas": null,
            "object_position": null,
            "object_fit": null,
            "grid_auto_columns": null,
            "margin": null,
            "display": null,
            "left": null
          }
        },
        "f81ec69ee7ae416aab8256f629751b16": {
          "model_module": "@jupyter-widgets/controls",
          "model_name": "FloatProgressModel",
          "state": {
            "_view_name": "ProgressView",
            "style": "IPY_MODEL_71122c60832449e5837db6f1f6f89dcc",
            "_dom_classes": [],
            "description": "",
            "_model_name": "FloatProgressModel",
            "bar_style": "info",
            "max": 1,
            "_view_module": "@jupyter-widgets/controls",
            "_model_module_version": "1.5.0",
            "value": 1,
            "_view_count": null,
            "_view_module_version": "1.5.0",
            "orientation": "horizontal",
            "min": 0,
            "description_tooltip": null,
            "_model_module": "@jupyter-widgets/controls",
            "layout": "IPY_MODEL_904a3318d4524893876a8244605d190c"
          }
        },
        "581f264794e24e7b89c3f66a86bd9dc5": {
          "model_module": "@jupyter-widgets/controls",
          "model_name": "HTMLModel",
          "state": {
            "_view_name": "HTMLView",
            "style": "IPY_MODEL_5c9bd60b6d9a42d79f5a936041dece33",
            "_dom_classes": [],
            "description": "",
            "_model_name": "HTMLModel",
            "placeholder": "​",
            "_view_module": "@jupyter-widgets/controls",
            "_model_module_version": "1.5.0",
            "value": " 170500096/? [00:20&lt;00:00, 50220323.95it/s]",
            "_view_count": null,
            "_view_module_version": "1.5.0",
            "description_tooltip": null,
            "_model_module": "@jupyter-widgets/controls",
            "layout": "IPY_MODEL_60ae80f0b14b413589b340f3930f3471"
          }
        },
        "71122c60832449e5837db6f1f6f89dcc": {
          "model_module": "@jupyter-widgets/controls",
          "model_name": "ProgressStyleModel",
          "state": {
            "_view_name": "StyleView",
            "_model_name": "ProgressStyleModel",
            "description_width": "initial",
            "_view_module": "@jupyter-widgets/base",
            "_model_module_version": "1.5.0",
            "_view_count": null,
            "_view_module_version": "1.2.0",
            "bar_color": null,
            "_model_module": "@jupyter-widgets/controls"
          }
        },
        "904a3318d4524893876a8244605d190c": {
          "model_module": "@jupyter-widgets/base",
          "model_name": "LayoutModel",
          "state": {
            "_view_name": "LayoutView",
            "grid_template_rows": null,
            "right": null,
            "justify_content": null,
            "_view_module": "@jupyter-widgets/base",
            "overflow": null,
            "_model_module_version": "1.2.0",
            "_view_count": null,
            "flex_flow": null,
            "width": null,
            "min_width": null,
            "border": null,
            "align_items": null,
            "bottom": null,
            "_model_module": "@jupyter-widgets/base",
            "top": null,
            "grid_column": null,
            "overflow_y": null,
            "overflow_x": null,
            "grid_auto_flow": null,
            "grid_area": null,
            "grid_template_columns": null,
            "flex": null,
            "_model_name": "LayoutModel",
            "justify_items": null,
            "grid_row": null,
            "max_height": null,
            "align_content": null,
            "visibility": null,
            "align_self": null,
            "height": null,
            "min_height": null,
            "padding": null,
            "grid_auto_rows": null,
            "grid_gap": null,
            "max_width": null,
            "order": null,
            "_view_module_version": "1.2.0",
            "grid_template_areas": null,
            "object_position": null,
            "object_fit": null,
            "grid_auto_columns": null,
            "margin": null,
            "display": null,
            "left": null
          }
        },
        "5c9bd60b6d9a42d79f5a936041dece33": {
          "model_module": "@jupyter-widgets/controls",
          "model_name": "DescriptionStyleModel",
          "state": {
            "_view_name": "StyleView",
            "_model_name": "DescriptionStyleModel",
            "description_width": "",
            "_view_module": "@jupyter-widgets/base",
            "_model_module_version": "1.5.0",
            "_view_count": null,
            "_view_module_version": "1.2.0",
            "_model_module": "@jupyter-widgets/controls"
          }
        },
        "60ae80f0b14b413589b340f3930f3471": {
          "model_module": "@jupyter-widgets/base",
          "model_name": "LayoutModel",
          "state": {
            "_view_name": "LayoutView",
            "grid_template_rows": null,
            "right": null,
            "justify_content": null,
            "_view_module": "@jupyter-widgets/base",
            "overflow": null,
            "_model_module_version": "1.2.0",
            "_view_count": null,
            "flex_flow": null,
            "width": null,
            "min_width": null,
            "border": null,
            "align_items": null,
            "bottom": null,
            "_model_module": "@jupyter-widgets/base",
            "top": null,
            "grid_column": null,
            "overflow_y": null,
            "overflow_x": null,
            "grid_auto_flow": null,
            "grid_area": null,
            "grid_template_columns": null,
            "flex": null,
            "_model_name": "LayoutModel",
            "justify_items": null,
            "grid_row": null,
            "max_height": null,
            "align_content": null,
            "visibility": null,
            "align_self": null,
            "height": null,
            "min_height": null,
            "padding": null,
            "grid_auto_rows": null,
            "grid_gap": null,
            "max_width": null,
            "order": null,
            "_view_module_version": "1.2.0",
            "grid_template_areas": null,
            "object_position": null,
            "object_fit": null,
            "grid_auto_columns": null,
            "margin": null,
            "display": null,
            "left": null
          }
        }
      }
    }
  },
  "cells": [
    {
      "cell_type": "markdown",
      "metadata": {
        "id": "dYgpzGuMdx8-"
      },
      "source": [
        "**Assignment # 2, CNN over Fasion MNIST**\n",
        "\n",
        "In this assignment you are requested to build a convolutional network and train it over the Fasion MNIST data, which is a collection of 28X28 back and white images, classified into 10 different classes of clothing items. For more information about Fashion MNIST you may refer to: \n",
        "https://github.com/zalandoresearch/fashion-mnist "
      ]
    },
    {
      "cell_type": "markdown",
      "metadata": {
        "id": "t6mpoKX2bA5s"
      },
      "source": [
        "**Imports**"
      ]
    },
    {
      "cell_type": "code",
      "metadata": {
        "id": "Q5w6wIzcd1LG"
      },
      "source": [
        "import torch\n",
        "import torch.nn as nn\n",
        "import torchvision\n",
        "import torch.nn.functional as F\n",
        "\n",
        "from torch.utils.data import RandomSampler,DataLoader\n",
        "from torchvision.transforms import Compose,RandomHorizontalFlip,Grayscale,Resize,RandomCrop,ToTensor\n",
        "\n",
        "import numpy as np\n",
        "import pandas as pd\n",
        "import seaborn as sns\n",
        "sns.set_style(\"darkgrid\")\n",
        "\n",
        "from PIL import Image\n",
        "import matplotlib.pyplot as plt\n",
        "\n",
        "\n",
        "import pickle\n",
        "from time import time\n",
        "from IPython.display import clear_output"
      ],
      "execution_count": null,
      "outputs": []
    },
    {
      "cell_type": "markdown",
      "metadata": {
        "id": "g81qNSaWpP3b"
      },
      "source": [
        "Set a batch_size :"
      ]
    },
    {
      "cell_type": "code",
      "metadata": {
        "id": "4pmwWPxUpPbn"
      },
      "source": [
        "# BATCH_SIZE = 4\r\n",
        "BATCH_SIZE = 64     # approved by kfir"
      ],
      "execution_count": null,
      "outputs": []
    },
    {
      "cell_type": "markdown",
      "metadata": {
        "id": "hEhkR1zgbC7c"
      },
      "source": [
        "**Loading Fashion MNIST**"
      ]
    },
    {
      "cell_type": "code",
      "metadata": {
        "id": "o3UMZ4deO4ME",
        "colab": {
          "base_uri": "https://localhost:8080/",
          "height": 369,
          "referenced_widgets": [
            "92cfdee7281d4689a2c17499a696b481",
            "d7de2812bb6e4df88c1f5349f4f320e0",
            "8ad74833bb114d5cb1905d4ac421b48b",
            "173eb755b6de40b9a99f39ca26d64ad2",
            "c8f92dbc73f14ea8a896b56140d09a8a",
            "006aa57ca1f548faa191ec243ce8db7f",
            "f7ece4c56d9e438f99c2d6548ffc0c22",
            "7a021211cb0e48988061e27d166fad2a",
            "77e5e9f8e1704b1090f3eead21d54ca3",
            "cd75d4accfe548eabb8d05661bcf0525",
            "316dde4354154074b4db9dd580f1f88e",
            "558f1cef5c8148b58065f1fd06261c63",
            "1d46085aa0834aa486a32ccb9761e8ae",
            "4456dafe41c34651a9b01f6a57879b12",
            "dd0b793d292d497ea80d2a8be23b67d2",
            "22b5458ab9fc40b982a3333a30636f5c",
            "21a6738b0dcd448595179dfc5ace229b",
            "95cc896288c74b7abd38f146e4365e8d",
            "bf76ee96c4874ae0b8b03eda69a1e545",
            "43311fae6df74995bdffd0430fad833d",
            "6c615ef4679e4b73a6f5eb6e5c6c9e07",
            "b210202b73f1478c9366f0423fa3f19d",
            "f0d26e2276ec4d90a23ca7ba2a846aaa",
            "4232b42c05034505ab6457be09329672",
            "853002bfd9ec436b884b7799cb7b252e",
            "b80ad6e0784a4027875d53e415213569",
            "86a8ca23ee964ad184412054c82315eb",
            "fc40890f23284d96b0670a49a2e4caa1",
            "c980f5b8e238461e99ca219e89b52b99",
            "5d87b9f7f518448f89b5e8a54fd6444a",
            "e0c66f7bfce1486b8634da44ed413927",
            "1a9d0c0101ce421e872634088226cc27"
          ]
        },
        "outputId": "2469474b-d4c7-4d7e-ed36-521d2b6a39f5"
      },
      "source": [
        "classes = ('T-shirt/top', 'Trouser', 'Pullover', 'Dress','Coat', 'Sandal', 'Shirt', 'Sneaker', 'Bag', 'Ankle boot')\r\n",
        "\r\n",
        "trainset = torchvision.datasets.FashionMNIST(root='./data', train=True,\r\n",
        "                                        download=True, transform=ToTensor())\r\n",
        "\r\n",
        "testset = torchvision.datasets.FashionMNIST(root='./data', train=False,\r\n",
        "                                       download=True, transform=ToTensor())\r\n",
        "\r\n",
        "\r\n",
        "# Use dataloaders for train and test (batch size is 4)\r\n",
        "trainloader = DataLoader(trainset, batch_size=BATCH_SIZE, shuffle=True)\r\n",
        "testloader = DataLoader(testset, batch_size=BATCH_SIZE, shuffle=False)"
      ],
      "execution_count": null,
      "outputs": [
        {
          "output_type": "stream",
          "text": [
            "Downloading http://fashion-mnist.s3-website.eu-central-1.amazonaws.com/train-images-idx3-ubyte.gz to ./data/FashionMNIST/raw/train-images-idx3-ubyte.gz\n"
          ],
          "name": "stdout"
        },
        {
          "output_type": "display_data",
          "data": {
            "application/vnd.jupyter.widget-view+json": {
              "model_id": "92cfdee7281d4689a2c17499a696b481",
              "version_minor": 0,
              "version_major": 2
            },
            "text/plain": [
              "HBox(children=(FloatProgress(value=1.0, bar_style='info', max=1.0), HTML(value='')))"
            ]
          },
          "metadata": {
            "tags": []
          }
        },
        {
          "output_type": "stream",
          "text": [
            "Extracting ./data/FashionMNIST/raw/train-images-idx3-ubyte.gz to ./data/FashionMNIST/raw\n",
            "Downloading http://fashion-mnist.s3-website.eu-central-1.amazonaws.com/train-labels-idx1-ubyte.gz to ./data/FashionMNIST/raw/train-labels-idx1-ubyte.gz\n"
          ],
          "name": "stdout"
        },
        {
          "output_type": "display_data",
          "data": {
            "application/vnd.jupyter.widget-view+json": {
              "model_id": "77e5e9f8e1704b1090f3eead21d54ca3",
              "version_minor": 0,
              "version_major": 2
            },
            "text/plain": [
              "HBox(children=(FloatProgress(value=1.0, bar_style='info', max=1.0), HTML(value='')))"
            ]
          },
          "metadata": {
            "tags": []
          }
        },
        {
          "output_type": "stream",
          "text": [
            "Extracting ./data/FashionMNIST/raw/train-labels-idx1-ubyte.gz to ./data/FashionMNIST/raw\n",
            "Downloading http://fashion-mnist.s3-website.eu-central-1.amazonaws.com/t10k-images-idx3-ubyte.gz to ./data/FashionMNIST/raw/t10k-images-idx3-ubyte.gz\n"
          ],
          "name": "stdout"
        },
        {
          "output_type": "display_data",
          "data": {
            "application/vnd.jupyter.widget-view+json": {
              "model_id": "21a6738b0dcd448595179dfc5ace229b",
              "version_minor": 0,
              "version_major": 2
            },
            "text/plain": [
              "HBox(children=(FloatProgress(value=1.0, bar_style='info', max=1.0), HTML(value='')))"
            ]
          },
          "metadata": {
            "tags": []
          }
        },
        {
          "output_type": "stream",
          "text": [
            "Extracting ./data/FashionMNIST/raw/t10k-images-idx3-ubyte.gz to ./data/FashionMNIST/raw\n",
            "Downloading http://fashion-mnist.s3-website.eu-central-1.amazonaws.com/t10k-labels-idx1-ubyte.gz to ./data/FashionMNIST/raw/t10k-labels-idx1-ubyte.gz\n"
          ],
          "name": "stdout"
        },
        {
          "output_type": "display_data",
          "data": {
            "application/vnd.jupyter.widget-view+json": {
              "model_id": "853002bfd9ec436b884b7799cb7b252e",
              "version_minor": 0,
              "version_major": 2
            },
            "text/plain": [
              "HBox(children=(FloatProgress(value=1.0, bar_style='info', max=1.0), HTML(value='')))"
            ]
          },
          "metadata": {
            "tags": []
          }
        },
        {
          "output_type": "stream",
          "text": [
            "Extracting ./data/FashionMNIST/raw/t10k-labels-idx1-ubyte.gz to ./data/FashionMNIST/raw\n",
            "Processing...\n",
            "Done!\n"
          ],
          "name": "stdout"
        },
        {
          "output_type": "stream",
          "text": [
            "/usr/local/lib/python3.6/dist-packages/torchvision/datasets/mnist.py:480: UserWarning: The given NumPy array is not writeable, and PyTorch does not support non-writeable tensors. This means you can write to the underlying (supposedly non-writeable) NumPy array using the tensor. You may want to copy the array to protect its data or make it writeable before converting it to a tensor. This type of warning will be suppressed for the rest of this program. (Triggered internally at  /pytorch/torch/csrc/utils/tensor_numpy.cpp:141.)\n",
            "  return torch.from_numpy(parsed.astype(m[2], copy=False)).view(*s)\n"
          ],
          "name": "stderr"
        }
      ]
    },
    {
      "cell_type": "markdown",
      "metadata": {
        "id": "7v8HkpJzbOYj"
      },
      "source": [
        "**Checking Batch**"
      ]
    },
    {
      "cell_type": "code",
      "metadata": {
        "colab": {
          "base_uri": "https://localhost:8080/",
          "height": 212
        },
        "id": "jVF3a9BkTYVX",
        "outputId": "992aff43-022c-4af8-e407-6cc8cb61ee5b"
      },
      "source": [
        "images, labels = iter(trainloader).next()\r\n",
        "\r\n",
        "# show images\r\n",
        "f, ax = plt.subplots(1,4,figsize=(8,3)) # 4 = images.shape[0]\r\n",
        "for i in range(4):\r\n",
        "  ax[i].imshow(images[i][0],cmap='gray', vmin=0, vmax=1)\r\n",
        "  ax[i].axis('off')\r\n",
        "  ax[i].set_title(classes[labels[i]])"
      ],
      "execution_count": null,
      "outputs": [
        {
          "output_type": "stream",
          "text": [
            "\n",
            "\n",
            "\n",
            "\n"
          ],
          "name": "stdout"
        },
        {
          "output_type": "display_data",
          "data": {
            "image/png": "[encoded data removed]",
            "text/plain": [
              "<Figure size 576x216 with 4 Axes>"
            ]
          },
          "metadata": {
            "tags": [],
            "needs_background": "light"
          }
        }
      ]
    },
    {
      "cell_type": "markdown",
      "metadata": {
        "id": "TjWwaUbDbgcI"
      },
      "source": [
        "**Set DEVICE (cuda/cpu)**"
      ]
    },
    {
      "cell_type": "code",
      "metadata": {
        "colab": {
          "base_uri": "https://localhost:8080/"
        },
        "id": "1PrT9JJOBhxU",
        "outputId": "f4f37846-453a-44e2-a7db-5f2ad1dc3afe"
      },
      "source": [
        "DEVICE = torch.device('cuda' if torch.cuda.is_available() else 'cpu')\r\n",
        "DEVICE"
      ],
      "execution_count": null,
      "outputs": [
        {
          "output_type": "execute_result",
          "data": {
            "text/plain": [
              "device(type='cuda')"
            ]
          },
          "metadata": {
            "tags": []
          },
          "execution_count": 5
        }
      ]
    },
    {
      "cell_type": "markdown",
      "metadata": {
        "id": "LnxNGDqYbkaU"
      },
      "source": [
        "**Record Results**"
      ]
    },
    {
      "cell_type": "code",
      "metadata": {
        "id": "hAXres06O7xt"
      },
      "source": [
        "df_results = pd.DataFrame(columns=['Device','Metric','Score'])"
      ],
      "execution_count": null,
      "outputs": []
    },
    {
      "cell_type": "markdown",
      "metadata": {
        "id": "E6jH2cjTVnVi"
      },
      "source": [
        "# **Part 1**: Implementing a CNN network for Fashion MNIST\n",
        "Here is what you need to do; you are encoureged to look at notebook \"DL Notebook 9 - CIFAR CNN\" when trying to complete the next steps.\n",
        "\n",
        "\n",
        "Write a network CNNFMnist, that has the following architecture:\n",
        "\n",
        "* Convolution with 10 3X3 filters\n",
        "* Relu\n",
        "* Max pool with 2X2\n",
        "* Convolution with 5 3X3 filters\n",
        "* Relu\n",
        "* Convolution with 16 3X3 filters\n",
        "* Relu\n",
        "* Max pool with 2X2\n",
        "* Liner, output size 128\n",
        "* Relu\n",
        "* Liner, output size 64\n",
        "* Relu\n",
        "* Liner, output size 10"
      ]
    },
    {
      "cell_type": "markdown",
      "metadata": {
        "id": "jr3kCJoHwL13"
      },
      "source": [
        "**CONV2D Parameters:**\r\n",
        "\r\n",
        "in_channels (int) – Number of channels in the input image\r\n",
        "\r\n",
        "out_channels (int) – Number of channels produced by the convolution\r\n",
        "\r\n",
        "kernel_size (int or tuple) – Size of the convolving kernel\r\n",
        "\r\n",
        "stride (int or tuple, optional) – Stride of the convolution. Default: 1\r\n",
        "\r\n",
        "padding (int or tuple, optional) – Zero-padding added to both sides of the input. Default: 0\r\n",
        "\r\n",
        "padding_mode (string, optional) – 'zeros', 'reflect', 'replicate' or 'circular'. Default: 'zeros'\r\n",
        "\r\n",
        "dilation (int or tuple, optional) – Spacing between kernel elements. Default: 1\r\n",
        "\r\n",
        "groups (int, optional) – Number of blocked connections from input channels to output channels. Default: 1\r\n",
        "\r\n",
        "bias (bool, optional) – If True, adds a learnable bias to the output. Default: True"
      ]
    },
    {
      "cell_type": "code",
      "metadata": {
        "id": "hoiGc1-donFO"
      },
      "source": [
        "class CNNFMnist(nn.Module):\n",
        "\n",
        "    def __init__(self):\n",
        "        super(CNNFMnist, self).__init__()\n",
        "        # Your code goes here\n",
        "        self.conv1 = nn.Conv2d(in_channels=1, out_channels=10, kernel_size=3)\n",
        "        self.conv2 = nn.Conv2d(in_channels=10, out_channels=5, kernel_size=3)\n",
        "        self.conv3 = nn.Conv2d(in_channels=5, out_channels=16, kernel_size=3)\n",
        "\n",
        "        self.fc1 = nn.Linear(in_features=256, out_features=128)\n",
        "        self.fc2 = nn.Linear(in_features=128, out_features=64)\n",
        "        self.out = nn.Linear(in_features=64, out_features=10)\n",
        "\n",
        "\n",
        "    def forward(self, x):\n",
        "        # Your code goes here\n",
        "        x = self.conv1(x)\n",
        "        x = F.relu(x)\n",
        "        x = F.max_pool2d(x, kernel_size=2)\n",
        "\n",
        "        x = self.conv2(x)\n",
        "        x = F.relu(x)\n",
        "\n",
        "        x = self.conv3(x)\n",
        "        x = F.relu(x)\n",
        "        x = F.max_pool2d(x, kernel_size=2)\n",
        "\n",
        "        x = torch.flatten(x, start_dim=1)\n",
        "\n",
        "        x = self.fc1(x)\n",
        "        x = F.relu(x)\n",
        "\n",
        "        x = self.fc2(x)\n",
        "        x = F.relu(x)\n",
        "\n",
        "        x = self.out(x)\n",
        "        return x     "
      ],
      "execution_count": null,
      "outputs": []
    },
    {
      "cell_type": "markdown",
      "metadata": {
        "id": "IrFcwKPq6QU1"
      },
      "source": [
        "**Testing Architecture:**"
      ]
    },
    {
      "cell_type": "code",
      "metadata": {
        "colab": {
          "base_uri": "https://localhost:8080/"
        },
        "id": "Av1l0ehc54u-",
        "outputId": "7b78005c-3b30-4ffa-d32b-d49d2193a4cd"
      },
      "source": [
        "model = CNNFMnist()\r\n",
        "inputs, labels = iter(trainloader).next()\r\n",
        "\r\n",
        "inputs.shape, model(inputs).shape"
      ],
      "execution_count": null,
      "outputs": [
        {
          "output_type": "execute_result",
          "data": {
            "text/plain": [
              "(torch.Size([64, 1, 28, 28]), torch.Size([64, 10]))"
            ]
          },
          "metadata": {
            "tags": []
          },
          "execution_count": 8
        }
      ]
    },
    {
      "cell_type": "markdown",
      "metadata": {
        "id": "ksWPM9kvYWmC"
      },
      "source": [
        "Write a code that trains the network with FashionMNIST train dataset, for classification (use cross entropy, and SGD).\n",
        "Run the network for at least 10 epochs, over the entire dataset. Make sure to print the loss over the train set as well as the **test set** over time (say, every 1000 batches, but it's up to you), so you will know where you are during training. \n",
        "\n",
        "Note, measuring loss of test is similar to measuring loss over the train test. However, make sure not to run the test images in back propagation. Use them only in forward and calulate the average loss over the entire test set. Since it will make the training process run slower, you should measure loss for the test set only at the end of an epoch (so overall you get 10 loss values for the test set). You are encoureged to write a different function for claculating the loss of the test set, and then call it from the training procedure.\n",
        "\n",
        "\n",
        "You should collect the loss values in an array, so you can plot then into two curves, one for train and one for test.\n",
        "\n",
        "In addition, you should measure the time it takes you to train the network completely.\n",
        "\n"
      ]
    },
    {
      "cell_type": "code",
      "metadata": {
        "id": "vJ7qX52gY5-a"
      },
      "source": [
        "# Your code goes here\r\n",
        "def train_model(DEVICE,model,trainloader,testloader=None,verbose=False,n_epochs=10,lr=1e-3):\r\n",
        "\r\n",
        "  total_len = len(trainloader)\r\n",
        "  criterion = nn.CrossEntropyLoss()\r\n",
        "  optimizer = torch.optim.SGD(model.parameters(), lr=lr, momentum=0.9)\r\n",
        "\r\n",
        "  loss_values = []\r\n",
        "  loss_values_test = []\r\n",
        "  for epoch in range(n_epochs):  \r\n",
        "\r\n",
        "\r\n",
        "      running_loss = 0.0\r\n",
        "      for i, data in enumerate(trainloader, 0):\r\n",
        "          \r\n",
        "          inputs, labels = data\r\n",
        "          inputs = inputs.to(DEVICE)\r\n",
        "          labels = labels.to(DEVICE)\r\n",
        "\r\n",
        "          optimizer.zero_grad()\r\n",
        "\r\n",
        "          outputs = model(inputs)\r\n",
        "          loss = criterion(outputs, labels)\r\n",
        "          \r\n",
        "          loss.backward()\r\n",
        "          \r\n",
        "          optimizer.step()\r\n",
        "         \r\n",
        "\r\n",
        "          # print statistics\r\n",
        "          running_loss += loss.item()\r\n",
        "          if verbose and ((i+1) % 5000 == 0): \r\n",
        "            print('epoch={} \\t samples={}/{}\\t\\tloss: {}'.format(epoch + 1, i + 1, total_len, running_loss / i) ) \r\n",
        "            \r\n",
        "      # save loss of epoch\r\n",
        "      loss_values.append(running_loss / len(trainloader))\r\n",
        "\r\n",
        "      if testloader is not None:\r\n",
        "        with torch.no_grad():\r\n",
        "          running_loss = 0.0\r\n",
        "          for i, data in enumerate(testloader, 0):\r\n",
        "            \r\n",
        "            inputs, labels = data\r\n",
        "            inputs = inputs.to(DEVICE)\r\n",
        "            labels = labels.to(DEVICE)\r\n",
        "            outputs = model(inputs)\r\n",
        "            loss = criterion(outputs, labels)\r\n",
        "            running_loss += loss.item()\r\n",
        "          loss_values_test.append(running_loss / len(testloader))\r\n",
        "        \r\n",
        "      #loss_values_eval.append(eval_model(DEVICE,model,verbose=False))\r\n",
        "\r\n",
        "  if testloader is not None:\r\n",
        "    return loss_values,loss_values_test\r\n",
        "    \r\n",
        "  return loss_values\r\n",
        "  "
      ],
      "execution_count": null,
      "outputs": []
    },
    {
      "cell_type": "markdown",
      "metadata": {
        "id": "Aa0sxqAhY8wA"
      },
      "source": [
        "Write a function that evaluates the resulted model over the entire test data of FashionMNIST. Provide a single accuracy number."
      ]
    },
    {
      "cell_type": "code",
      "metadata": {
        "id": "uzuGund9aBOp"
      },
      "source": [
        "# Your code goes here\r\n",
        "def eval_model(DEVICE,model,testloader,verbose=False):\r\n",
        "\r\n",
        "  correct = 0\r\n",
        "  total = 0\r\n",
        "  model.eval()\r\n",
        "  with torch.no_grad():\r\n",
        "      for data in testloader:\r\n",
        "          images, labels = data\r\n",
        "          images = images.to(DEVICE)\r\n",
        "          labels = labels.to(DEVICE)\r\n",
        "\r\n",
        "          outputs = model(images)\r\n",
        "          _, predicted = torch.max(outputs.data, 1)\r\n",
        "          total += labels.size(0)\r\n",
        "          correct += (predicted == labels).sum().item()\r\n",
        "\r\n",
        "  if verbose:\r\n",
        "    print('Accuracy of the network on the test images: %d %%' % (100 * correct / total))\r\n",
        "\r\n",
        "  # accuracy\r\n",
        "  return correct / total"
      ],
      "execution_count": null,
      "outputs": []
    },
    {
      "cell_type": "markdown",
      "metadata": {
        "id": "9VJr89VwEwO8"
      },
      "source": [
        "**Train & Eval on CPU:**"
      ]
    },
    {
      "cell_type": "code",
      "metadata": {
        "colab": {
          "base_uri": "https://localhost:8080/"
        },
        "id": "2ZiEJ8fMDaCp",
        "outputId": "e82fb542-7acd-4fac-85bd-fe337698c46c"
      },
      "source": [
        "DEVICE = 'cpu'\r\n",
        "model = CNNFMnist().to(DEVICE)\r\n",
        "\r\n",
        "train_time = time()\r\n",
        "train_loss_cpu,test_loss_cpu = train_model(DEVICE,model,trainloader,testloader,verbose=False)\r\n",
        "train_time = (time()-train_time)/60.0\r\n",
        "\r\n",
        "eval_time = time()\r\n",
        "eval_acc = eval_model(DEVICE,model,testloader,verbose=True)\r\n",
        "eval_time = time()-eval_time"
      ],
      "execution_count": null,
      "outputs": [
        {
          "output_type": "stream",
          "text": [
            "Accuracy of the network on the test images: 82 %\n"
          ],
          "name": "stdout"
        }
      ]
    },
    {
      "cell_type": "code",
      "metadata": {
        "colab": {
          "base_uri": "https://localhost:8080/",
          "height": 313
        },
        "id": "qj58IQWfcTeA",
        "outputId": "ef451225-b679-47ea-fd34-3c47dbca15f6"
      },
      "source": [
        "# plot loss values\r\n",
        "ax1 = sns.lineplot(data=train_loss_cpu,label='Train',color='blue');\r\n",
        "ax1 = sns.lineplot(data=test_loss_cpu,label='Test',color='red',ax=ax1);\r\n",
        "ax1.set_title('Training CPU - loss plot')\r\n",
        "ax1.set_ylabel('Loss')\r\n",
        "ax1.set_xlabel('Epoch')\r\n",
        "ax1.set(xlim=(0, 9))\r\n",
        "ax1.legend()\r\n",
        ";"
      ],
      "execution_count": null,
      "outputs": [
        {
          "output_type": "execute_result",
          "data": {
            "application/vnd.google.colaboratory.intrinsic+json": {
              "type": "string"
            },
            "text/plain": [
              "''"
            ]
          },
          "metadata": {
            "tags": []
          },
          "execution_count": 12
        },
        {
          "output_type": "display_data",
          "data": {
            "image/png": "[encoded data removed]",
            "text/plain": [
              "<Figure size 432x288 with 1 Axes>"
            ]
          },
          "metadata": {
            "tags": [],
            "needs_background": "light"
          }
        }
      ]
    },
    {
      "cell_type": "code",
      "metadata": {
        "id": "WYioXBAjcSHA"
      },
      "source": [
        "# record results for later\r\n",
        "df_results.loc[len(df_results)] = ['CPU','Train Time (min)',train_time]\r\n",
        "df_results.loc[len(df_results)] = ['CPU','Eval Time (sec)',eval_time]\r\n",
        "df_results.loc[len(df_results)] = ['CPU','Accuracy',eval_acc]"
      ],
      "execution_count": null,
      "outputs": []
    },
    {
      "cell_type": "markdown",
      "metadata": {
        "id": "rMnb9gSGaIjP"
      },
      "source": [
        "# **Part 2**: Training with a GPU \n",
        "You are requested to change your code to use the GPU instead of the CPU.\n",
        "This can be easily done bu converting every torch.tensor to torch.cuda.tensor. \n",
        "\n",
        "Specific instructions:\n",
        "* Change the hardware equipent of your colab notebook. To do that, go to the \"Runtime\" menu, and then to \"Change runtime type\". In the dialog box, change \"Hardware accelerator\" to GPU.\n",
        "* Please follow the lines that were commented out with the comment    # -- For GPU\n",
        "* Also, remove the lines that have the comment # -- For CPU\n",
        "\n",
        "Train your network again and compare training time."
      ]
    },
    {
      "cell_type": "code",
      "metadata": {
        "colab": {
          "base_uri": "https://localhost:8080/"
        },
        "id": "6HENPD1bCOmK",
        "outputId": "0931eca3-3261-4bfe-b199-cccaa1654927"
      },
      "source": [
        "DEVICE = 'cuda'   #torch.device('cuda' if torch.cuda.is_available() else 'cpu')\r\n",
        "model = CNNFMnist().to(DEVICE)\r\n",
        "\r\n",
        "train_time = time()\r\n",
        "train_loss_gpu,test_loss_gpu = train_model(DEVICE,model,trainloader,testloader,verbose=False)\r\n",
        "train_time = (time()-train_time)/60.0\r\n",
        "\r\n",
        "eval_time = time()\r\n",
        "eval_acc = eval_model(DEVICE,model,testloader,verbose=True)\r\n",
        "eval_time = time()-eval_time"
      ],
      "execution_count": null,
      "outputs": [
        {
          "output_type": "stream",
          "text": [
            "Accuracy of the network on the test images: 79 %\n"
          ],
          "name": "stdout"
        }
      ]
    },
    {
      "cell_type": "code",
      "metadata": {
        "colab": {
          "base_uri": "https://localhost:8080/",
          "height": 313
        },
        "id": "9BqqTWHRIxDr",
        "outputId": "298d8792-9844-4a87-93bb-c2a34d13226a"
      },
      "source": [
        "# plot loss values\r\n",
        "ax2 = sns.lineplot(data=train_loss_gpu,label='Train',color='blue');\r\n",
        "ax2 = sns.lineplot(data=test_loss_gpu,label='Test',color='red',ax=ax2);\r\n",
        "ax2.set_title('Training GPU - loss plot')\r\n",
        "ax2.set_ylabel('Loss')\r\n",
        "ax2.set_xlabel('Epoch')\r\n",
        "ax2.set(xlim=(0, 9))\r\n",
        "ax2.legend()\r\n",
        ";"
      ],
      "execution_count": null,
      "outputs": [
        {
          "output_type": "execute_result",
          "data": {
            "application/vnd.google.colaboratory.intrinsic+json": {
              "type": "string"
            },
            "text/plain": [
              "''"
            ]
          },
          "metadata": {
            "tags": []
          },
          "execution_count": 15
        },
        {
          "output_type": "display_data",
          "data": {
            "image/png": "[encoded data removed]",
            "text/plain": [
              "<Figure size 432x288 with 1 Axes>"
            ]
          },
          "metadata": {
            "tags": [],
            "needs_background": "light"
          }
        }
      ]
    },
    {
      "cell_type": "code",
      "metadata": {
        "id": "u-mFCJu8iXPi"
      },
      "source": [
        "# record results for later\r\n",
        "df_results.loc[len(df_results)] = ['GPU','Train Time (min)',train_time]\r\n",
        "df_results.loc[len(df_results)] = ['GPU','Eval Time (sec)',eval_time]\r\n",
        "df_results.loc[len(df_results)] = ['GPU','Accuracy',eval_acc]"
      ],
      "execution_count": null,
      "outputs": []
    },
    {
      "cell_type": "markdown",
      "metadata": {
        "id": "LAI5brsdI2xD"
      },
      "source": [
        "**Compare - CPU vs GPU**"
      ]
    },
    {
      "cell_type": "code",
      "metadata": {
        "colab": {
          "base_uri": "https://localhost:8080/",
          "height": 313
        },
        "id": "NX3940BNI943",
        "outputId": "cb97e902-2bb3-4c7a-e527-2ff34da8818c"
      },
      "source": [
        "# plot loss values\r\n",
        "ax = sns.lineplot(data=train_loss_cpu,label='CPU');\r\n",
        "ax = sns.lineplot(data=train_loss_gpu,label='GPU',ax=ax);\r\n",
        "ax.set_title('Train - loss plot')\r\n",
        "ax.set_ylabel('Loss')\r\n",
        "ax.set_xlabel('Epoch')\r\n",
        "ax.set(xlim=(0, 9))\r\n",
        "ax.legend()\r\n",
        ";"
      ],
      "execution_count": null,
      "outputs": [
        {
          "output_type": "execute_result",
          "data": {
            "application/vnd.google.colaboratory.intrinsic+json": {
              "type": "string"
            },
            "text/plain": [
              "''"
            ]
          },
          "metadata": {
            "tags": []
          },
          "execution_count": 17
        },
        {
          "output_type": "display_data",
          "data": {
            "image/png": "[encoded data removed]",
            "text/plain": [
              "<Figure size 432x288 with 1 Axes>"
            ]
          },
          "metadata": {
            "tags": [],
            "needs_background": "light"
          }
        }
      ]
    },
    {
      "cell_type": "code",
      "metadata": {
        "colab": {
          "base_uri": "https://localhost:8080/",
          "height": 313
        },
        "id": "ROyPNzPEZlZy",
        "outputId": "40a80c46-7676-4f13-97af-0a260cb76114"
      },
      "source": [
        "# plot loss values\r\n",
        "ax = sns.lineplot(data=test_loss_cpu,label='CPU');\r\n",
        "ax = sns.lineplot(data=test_loss_gpu,label='GPU',ax=ax);\r\n",
        "ax.set_title('Test - loss plot')\r\n",
        "ax.set_ylabel('Loss')\r\n",
        "ax.set_xlabel('Epoch')\r\n",
        "ax.set(xlim=(0, 9))\r\n",
        "ax.legend()\r\n",
        ";"
      ],
      "execution_count": null,
      "outputs": [
        {
          "output_type": "execute_result",
          "data": {
            "application/vnd.google.colaboratory.intrinsic+json": {
              "type": "string"
            },
            "text/plain": [
              "''"
            ]
          },
          "metadata": {
            "tags": []
          },
          "execution_count": 18
        },
        {
          "output_type": "display_data",
          "data": {
            "image/png": "[encoded data removed]",
            "text/plain": [
              "<Figure size 432x288 with 1 Axes>"
            ]
          },
          "metadata": {
            "tags": [],
            "needs_background": "light"
          }
        }
      ]
    },
    {
      "cell_type": "code",
      "metadata": {
        "colab": {
          "base_uri": "https://localhost:8080/",
          "height": 383
        },
        "id": "b-qhyh3sFB2S",
        "outputId": "ba38b187-4014-4c52-f44d-bb0567f69d63"
      },
      "source": [
        "sns.catplot(x=\"Device\", y=\"Score\", col=\"Metric\", data=df_results, kind=\"bar\", height=5, aspect=0.7);"
      ],
      "execution_count": null,
      "outputs": [
        {
          "output_type": "display_data",
          "data": {
            "image/png": "[encoded data removed]",
            "text/plain": [
              "<Figure size 756x360 with 3 Axes>"
            ]
          },
          "metadata": {
            "tags": [],
            "needs_background": "light"
          }
        }
      ]
    },
    {
      "cell_type": "markdown",
      "metadata": {
        "id": "lZChNq_CPmU3"
      },
      "source": [
        "We can easly see that the GPU's train and eval time are lower. While the accuracy is the same.\r\n",
        "\r\n",
        "<br><br><br>\r\n",
        "<br><br><br>\r\n",
        "<br><br><br>"
      ]
    },
    {
      "cell_type": "markdown",
      "metadata": {
        "id": "e5PJQ9gxGduc"
      },
      "source": [
        "# **Part 3**: Transfer Learning\r\n",
        "Training data is a valuable resource, and sometimes there is not enough of it for training a neural netowrk at scale. To handle this situation, one approach is transfer learning, where we train our network on a different related task, and then switch to train it on the downstream task that we focus on. \r\n",
        "\r\n",
        "In this last part of the assignment, you are requested to pretrain your network on CIFAR-10, then train it on Fashion-MNIST, and measure its contribution to the results. To do that, please follow the steps:"
      ]
    },
    {
      "cell_type": "code",
      "metadata": {
        "id": "exg_c0XlG8dX",
        "colab": {
          "base_uri": "https://localhost:8080/",
          "height": 52
        },
        "outputId": "73195311-6290-4c08-ec7f-f01f89956be3"
      },
      "source": [
        "'''\r\n",
        "Note:\r\n",
        "It's unclear if u want us to change the already been writen code or to craate a new functions based on the initial code, although we would have changed the initial code.\r\n",
        "So here is a new section with the code from before - and we mentioned the changes :)\r\n",
        "'''"
      ],
      "execution_count": null,
      "outputs": [
        {
          "output_type": "execute_result",
          "data": {
            "application/vnd.google.colaboratory.intrinsic+json": {
              "type": "string"
            },
            "text/plain": [
              "\"\\nNote:\\nIt's unclear if u want us to change the already been writen code or to craate a new functions based on the initial code, although we would have changed the initial code.\\nSo here is a new section with the code from before - and we mentioned the changes :)\\n\""
            ]
          },
          "metadata": {
            "tags": []
          },
          "execution_count": 20
        }
      ]
    },
    {
      "cell_type": "code",
      "metadata": {
        "id": "j0jxAXpJcQpl"
      },
      "source": [
        "# Your code goes here\r\n",
        "def train_model(DEVICE,model,trainloader,testloader=None,verbose=False,n_epochs=10,lr=1e-3): \r\n",
        "\r\n",
        "  model = model.to(DEVICE) # changed\r\n",
        "\r\n",
        "  total_len = len(trainloader)\r\n",
        "  criterion = nn.CrossEntropyLoss()\r\n",
        "  optimizer = torch.optim.SGD(model.parameters(), lr=lr, momentum=0.9)\r\n",
        "\r\n",
        "  loss_values = []\r\n",
        "  loss_values_test = []\r\n",
        "  for epoch in range(n_epochs):  \r\n",
        "\r\n",
        "\r\n",
        "      running_loss = 0.0\r\n",
        "      for i, data in enumerate(trainloader, 0):\r\n",
        "          \r\n",
        "          inputs, labels = data\r\n",
        "          inputs = inputs.to(DEVICE)\r\n",
        "          labels = labels.to(DEVICE)\r\n",
        "\r\n",
        "          optimizer.zero_grad()\r\n",
        "\r\n",
        "          _, outputs = model(inputs)  # changed\r\n",
        "          \r\n",
        "          loss = criterion(outputs, labels)\r\n",
        "          \r\n",
        "          loss.backward()\r\n",
        "          \r\n",
        "          optimizer.step()\r\n",
        "         \r\n",
        "\r\n",
        "          # print statistics\r\n",
        "          running_loss += loss.item()\r\n",
        "          if verbose and ((i+1) % 5000 == 0): \r\n",
        "            print('epoch={} \\t samples={}/{}\\t\\tloss: {}'.format(epoch + 1, i + 1, total_len, running_loss / i) ) \r\n",
        "            \r\n",
        "      # save loss of epoch\r\n",
        "      loss_values.append(running_loss / len(trainloader))\r\n",
        "\r\n",
        "      if testloader is not None:\r\n",
        "        with torch.no_grad():\r\n",
        "          running_loss = 0.0\r\n",
        "          for i, data in enumerate(testloader, 0):\r\n",
        "            \r\n",
        "            inputs, labels = data\r\n",
        "            inputs = inputs.to(DEVICE)\r\n",
        "            labels = labels.to(DEVICE)\r\n",
        "            _, outputs = model(inputs)  # changed\r\n",
        "            loss = criterion(outputs, labels)\r\n",
        "            running_loss += loss.item()\r\n",
        "          loss_values_test.append(running_loss / len(testloader))\r\n",
        "        \r\n",
        "      #loss_values_eval.append(eval_model(DEVICE,model,verbose=False))\r\n",
        "\r\n",
        "  if testloader is not None:\r\n",
        "    return loss_values,loss_values_test\r\n",
        "    \r\n",
        "  return loss_values\r\n",
        "  "
      ],
      "execution_count": null,
      "outputs": []
    },
    {
      "cell_type": "code",
      "metadata": {
        "id": "zGF-Ho4kcfbb"
      },
      "source": [
        "# A little change in the eval function\r\n",
        "\r\n",
        "def eval_model(DEVICE,model,testloader,verbose=False):\r\n",
        "\r\n",
        "  correct = 0\r\n",
        "  total = 0\r\n",
        "  model.eval()\r\n",
        "  with torch.no_grad():\r\n",
        "      for data in testloader:\r\n",
        "          images, labels = data\r\n",
        "          images = images.to(DEVICE)\r\n",
        "          labels = labels.to(DEVICE)\r\n",
        "\r\n",
        "          _, outputs = model(images)                  # changed\r\n",
        "\r\n",
        "          _, predicted = torch.max(outputs.data, 1)\r\n",
        "          \r\n",
        "          total += labels.size(0)\r\n",
        "          correct += (predicted == labels).sum().item()\r\n",
        "\r\n",
        "  if verbose:\r\n",
        "    print('Accuracy of the network on the test images: %d %%' % (100 * correct / total))\r\n",
        "\r\n",
        "  # accuracy\r\n",
        "  return correct / total"
      ],
      "execution_count": null,
      "outputs": []
    },
    {
      "cell_type": "markdown",
      "metadata": {
        "id": "EhzdOo5sQSlI"
      },
      "source": [
        "**Step 1**\r\n",
        "\r\n",
        "Modify your CNNFMnist implementation to return the output of the layer one before last after Relu (Linear layer of size 64, above) in addition to the final output. For example:\r\n",
        "\r\n",
        "```\r\n",
        "def forward(self, x):\r\n",
        "  ...\r\n",
        "  return h, out\r\n",
        "```"
      ]
    },
    {
      "cell_type": "code",
      "metadata": {
        "colab": {
          "base_uri": "https://localhost:8080/"
        },
        "id": "kHvrMoOlQUK8",
        "outputId": "ad994d36-fd09-4d7a-e7ec-08c095554340"
      },
      "source": [
        "# A little change in the CNNFMnist class\r\n",
        "\r\n",
        "class CNNFMnist(nn.Module):\r\n",
        "\r\n",
        "    def __init__(self):\r\n",
        "        super(CNNFMnist, self).__init__()\r\n",
        "        # Your code goes here\r\n",
        "        self.conv1 = nn.Conv2d(in_channels=1, out_channels=10, kernel_size=3)\r\n",
        "        self.conv2 = nn.Conv2d(in_channels=10, out_channels=5, kernel_size=3)\r\n",
        "        self.conv3 = nn.Conv2d(in_channels=5, out_channels=16, kernel_size=3)\r\n",
        "\r\n",
        "        self.fc1 = nn.Linear(in_features=256, out_features=128)\r\n",
        "        self.fc2 = nn.Linear(in_features=128, out_features=64)\r\n",
        "        self.out = nn.Linear(in_features=64, out_features=10)\r\n",
        "\r\n",
        "\r\n",
        "    def forward(self, x):\r\n",
        "        # Your code goes here\r\n",
        "        x = self.conv1(x)\r\n",
        "        x = F.relu(x)\r\n",
        "        x = F.max_pool2d(x, kernel_size=2)\r\n",
        "\r\n",
        "        x = self.conv2(x)\r\n",
        "        x = F.relu(x)\r\n",
        "\r\n",
        "        x = self.conv3(x)\r\n",
        "        x = F.relu(x)\r\n",
        "        x = F.max_pool2d(x, kernel_size=2)\r\n",
        "\r\n",
        "        x = torch.flatten(x, start_dim=1)\r\n",
        "\r\n",
        "        x = self.fc1(x)\r\n",
        "        x = F.relu(x)\r\n",
        "\r\n",
        "        x = self.fc2(x)\r\n",
        "        h = F.relu(x)          # changed\r\n",
        "\r\n",
        "        out = self.out(h)      # changed\r\n",
        "        return h,out           # changed\r\n",
        "\r\n",
        "\r\n",
        "model = CNNFMnist()\r\n",
        "model(iter(trainloader).next()[0])[0].shape,model(iter(trainloader).next()[0])[1].shape"
      ],
      "execution_count": null,
      "outputs": [
        {
          "output_type": "execute_result",
          "data": {
            "text/plain": [
              "(torch.Size([64, 64]), torch.Size([64, 10]))"
            ]
          },
          "metadata": {
            "tags": []
          },
          "execution_count": 23
        }
      ]
    },
    {
      "cell_type": "markdown",
      "metadata": {
        "id": "Rm6iuRBTGiMU"
      },
      "source": [
        "\r\n",
        "and train it on the training-set part of CIFAR-10.   \r\n",
        "Use batch size of 4, and train it for at least 10 epochs. \r\n",
        "\r\n",
        "Note that CIFAR-10 images are of different shapes (3X32X32), therefore a conversion into 1X28X28 is needed.   \r\n",
        "To do that, when you load CIFAR-10 using a torchvision Dataset, you can use the transformer torchvision.transforms.Grayscale(num_output_channels=1) in order to convert the images to a 1X32X32 grayscale volume:\r\n",
        "\r\n",
        "```\r\n",
        "trainset = torchvision.datasets.CIFAR10(root='./data', train=True,\r\n",
        "                                        download=True, transform=torchvision.transforms.Compose([torchvision.transforms.Grayscale(num_output_channels=1),\r\n",
        "                                    torchvision.transforms.ToTensor()]))\r\n",
        "```\r\n",
        "Then, from each 1X32X32 image, sample 10 1X28X28 images at random positions, and use them for training (*optional* - for data augmentation, if you want, you can also generate the reflection of each of the 10 images and add them the training set)."
      ]
    },
    {
      "cell_type": "code",
      "metadata": {
        "colab": {
          "base_uri": "https://localhost:8080/",
          "height": 34,
          "referenced_widgets": [
            "27e9a3b0980b4afba6e638b763205946",
            "93ad629ff08d47e2a5e5ee6f0b7618a3",
            "f81ec69ee7ae416aab8256f629751b16",
            "581f264794e24e7b89c3f66a86bd9dc5",
            "71122c60832449e5837db6f1f6f89dcc",
            "904a3318d4524893876a8244605d190c",
            "5c9bd60b6d9a42d79f5a936041dece33",
            "60ae80f0b14b413589b340f3930f3471"
          ]
        },
        "id": "jEjLu_qiGl63",
        "outputId": "7201c4b6-38ad-4817-9667-751ffb96429f"
      },
      "source": [
        "trainset_list = []\r\n",
        "\r\n",
        "def append_trainset(trainset_list,transform):\r\n",
        "  d = torchvision.datasets.CIFAR10(root='./data', train=True,download=True, transform=Compose(transform))\r\n",
        "  trainset_list.append(d)\r\n",
        "\r\n",
        "# original \r\n",
        "transform = [\r\n",
        "            Grayscale(num_output_channels=1),\r\n",
        "            Resize(size=28),\r\n",
        "            ToTensor()\r\n",
        "            ]\r\n",
        "\r\n",
        "# original reflected\r\n",
        "transform_reflect = [\r\n",
        "            Grayscale(num_output_channels=1),\r\n",
        "            Resize(size=28),\r\n",
        "            RandomHorizontalFlip(p=1),\r\n",
        "            ToTensor()\r\n",
        "            ]\r\n",
        "\r\n",
        "# random crop\r\n",
        "transform_crop = [\r\n",
        "            Grayscale(num_output_channels=1),\r\n",
        "            RandomCrop(size=28),\r\n",
        "            ToTensor()\r\n",
        "            ]\r\n",
        "\r\n",
        "# random crop & reflected\r\n",
        "transform_crop_reflect = [\r\n",
        "            Grayscale(num_output_channels=1),\r\n",
        "            RandomHorizontalFlip(p=1),\r\n",
        "            RandomCrop(size=28),\r\n",
        "            ToTensor()\r\n",
        "            ]\r\n",
        "\r\n",
        "\r\n",
        "# transforming images \r\n",
        "append_trainset(trainset_list,transform)\r\n",
        "append_trainset(trainset_list,transform_reflect)        # optional augmentation\r\n",
        "for _ in range(10): \r\n",
        "  append_trainset(trainset_list,transform_crop)\r\n",
        "  append_trainset(trainset_list,transform_crop_reflect) # optional augmentation\r\n",
        "\r\n",
        "# merging \r\n",
        "merged_trainset = torch.utils.data.ConcatDataset(trainset_list)\r\n",
        "\r\n",
        "# trainloader\r\n",
        "trainloader_CIFAR10 = torch.utils.data.DataLoader(merged_trainset, batch_size=BATCH_SIZE, shuffle=True)\r\n",
        "\r\n",
        "# testing\r\n",
        "clear_output(wait=True)\r\n",
        "print('Trainsets count:{}   Dataset length:{}   Batch shape:{}'.format(len(trainset_list),len(trainloader_CIFAR10.dataset),iter(trainloader_CIFAR10).next()[0].shape))"
      ],
      "execution_count": null,
      "outputs": [
        {
          "output_type": "stream",
          "text": [
            "Trainsets count:22   Dataset length:1100000   Batch shape:torch.Size([64, 1, 28, 28])\n"
          ],
          "name": "stdout"
        }
      ]
    },
    {
      "cell_type": "code",
      "metadata": {
        "id": "NSOiaiqJN1Tr"
      },
      "source": [
        "trainset_FashionMNIST = torchvision.datasets.FashionMNIST(root='./data', train=True, download=False, transform=ToTensor())\r\n",
        "\r\n",
        "testset_FashionMNIST = torchvision.datasets.FashionMNIST(root='./data', train=False, download=False, transform=ToTensor())\r\n",
        "\r\n",
        "# Use dataloaders for train and test (batch size is 4)\r\n",
        "trainloader_FashionMNIST = DataLoader(trainset_FashionMNIST, batch_size=BATCH_SIZE, shuffle=True)\r\n",
        "testloader_FashionMNIST = DataLoader(testset_FashionMNIST, batch_size=BATCH_SIZE, shuffle=False)"
      ],
      "execution_count": null,
      "outputs": []
    },
    {
      "cell_type": "markdown",
      "metadata": {
        "id": "bKFrrXTNGmvF"
      },
      "source": [
        "**Setp 2**\r\n",
        "\r\n",
        "Once done, write a new Module CNNFMnist2, which uses CNNFMnist as one of its sub modules, followed by some additional layers.   \r\n",
        "The output of CNNFMnist that goes into the next layer, should be the output of the 64 neuron one-before-last layer, as described above.  \r\n",
        "CNNFMnist2 should have the following architecture:\r\n",
        "\r\n",
        "* CNNFMnist\r\n",
        "* Liner, output size 32\r\n",
        "* Relu\r\n",
        "* Liner, output size 16\r\n",
        "* Relu\r\n",
        "* Liner, output size 10\r\n",
        "\r\n",
        "Make sure to allow the user to assign a pre-trained version CNNFMnist as a member of the module. For example:\r\n",
        "\r\n",
        "```\r\n",
        "class CNNFMnist2(nn.Module):\r\n",
        "    def __init__(self, trained_cnnfmnist_model):\r\n",
        "        super(CNNFMnist2, self).__init__()\r\n",
        "        self.trained_cnnfmnist_model = trained_cnnfmnist_model\r\n",
        "        self.fc1 = nn.Linear(64, 32)\r\n",
        "        ...\r\n",
        "```"
      ]
    },
    {
      "cell_type": "code",
      "metadata": {
        "colab": {
          "base_uri": "https://localhost:8080/"
        },
        "id": "XyoEZBNrG9mw",
        "outputId": "dc063d5e-08ab-4eee-9a4e-81618bd3c3d2"
      },
      "source": [
        "class CNNFMnist2(nn.Module):\r\n",
        "    def __init__(self, trained_cnnfmnist_model):\r\n",
        "        super(CNNFMnist2, self).__init__()\r\n",
        "        self.trained_cnnfmnist_model = trained_cnnfmnist_model\r\n",
        "        self.fc1 = nn.Linear(64, 32)\r\n",
        "        self.fc2 = nn.Linear(32, 16)\r\n",
        "        self.fc3 = nn.Linear(16, 10)\r\n",
        "\r\n",
        "    def forward(self, x):\r\n",
        "        x,_ = self.trained_cnnfmnist_model(x)\r\n",
        "\r\n",
        "        x = self.fc1(x)\r\n",
        "        x = F.relu(x)\r\n",
        "\r\n",
        "        x = self.fc2(x)\r\n",
        "        h = F.relu(x)    \r\n",
        "\r\n",
        "        out = self.fc3(x)  \r\n",
        "        return h, out     \r\n",
        "\r\n",
        "    # helper functions\r\n",
        "    def freeze_sub_model(self):\r\n",
        "        # no need of eval() - no use of dropout/batch norm/etc.\r\n",
        "        # self.trained_cnnfmnist_model.eval() \r\n",
        "\r\n",
        "        for p in self.trained_cnnfmnist_model.parameters():\r\n",
        "          p.requires_grad  = False\r\n",
        "\r\n",
        "\r\n",
        "    def unfreeze_sub_model(self):\r\n",
        "        # self.trained_cnnfmnist_model.train()\r\n",
        "        for p in self.trained_cnnfmnist_model.parameters():\r\n",
        "          p.requires_grad  = True\r\n",
        "\r\n",
        "\r\n",
        "# testing \r\n",
        "model = CNNFMnist2(CNNFMnist())\r\n",
        "model(iter(trainloader).next()[0])[1].shape"
      ],
      "execution_count": null,
      "outputs": [
        {
          "output_type": "execute_result",
          "data": {
            "text/plain": [
              "torch.Size([64, 10])"
            ]
          },
          "metadata": {
            "tags": []
          },
          "execution_count": 26
        }
      ]
    },
    {
      "cell_type": "markdown",
      "metadata": {
        "id": "FdYn8JXyLk07"
      },
      "source": [
        "**Step 3**\n",
        "\n",
        "Train and eval CNNFMnist2 on Fashion-MNIST a few times:\n",
        "- Using the pre-trained version of CNNFMnist.\n",
        "- Using a fresh CNNFMnist instance (without training it).\n",
        "- (Optional) Using the pre-trained version of CNNFMnist, after freezing its weights using the .eval() function.\n",
        "\n",
        "Report on evaluation results (accuracy) for all of those cases.\n",
        "\n",
        "<br><br><br>"
      ]
    },
    {
      "cell_type": "code",
      "metadata": {
        "colab": {
          "base_uri": "https://localhost:8080/"
        },
        "id": "mTxHRWwADXHZ",
        "outputId": "c3c5c0e2-23a3-4a39-9018-eee3ad86a579"
      },
      "source": [
        "DEVICE = torch.device('cuda' if torch.cuda.is_available() else 'cpu')\r\n",
        "DEVICE"
      ],
      "execution_count": null,
      "outputs": [
        {
          "output_type": "execute_result",
          "data": {
            "text/plain": [
              "device(type='cuda')"
            ]
          },
          "metadata": {
            "tags": []
          },
          "execution_count": 27
        }
      ]
    },
    {
      "cell_type": "markdown",
      "metadata": {
        "id": "Tmd_Vgt5DNdg"
      },
      "source": [
        "<br><br>\r\n",
        "Save results:"
      ]
    },
    {
      "cell_type": "code",
      "metadata": {
        "id": "aI4Q0WXVPbFD"
      },
      "source": [
        "df_results_step3 = pd.DataFrame(columns=['Version','Metric','Score'])"
      ],
      "execution_count": null,
      "outputs": []
    },
    {
      "cell_type": "markdown",
      "metadata": {
        "id": "4AnLWiBWDB5s"
      },
      "source": [
        "<br><br>\r\n",
        "Creating the initial models :"
      ]
    },
    {
      "cell_type": "code",
      "metadata": {
        "id": "ebR7Nokx3jiS"
      },
      "source": [
        "model_CNNFMnist_1 = CNNFMnist()\r\n",
        "train_model(DEVICE,model_CNNFMnist_1,trainloader_CIFAR10,verbose=False,n_epochs=5) # more epochs will take too much time\r\n",
        "\r\n",
        "model_CNNFMnist_2 = CNNFMnist()\r\n",
        "\r\n",
        "# copy the model\r\n",
        "model_CNNFMnist_3 = pickle.loads(pickle.dumps(model_CNNFMnist_1))   # deep copy does not work as well"
      ],
      "execution_count": null,
      "outputs": []
    },
    {
      "cell_type": "markdown",
      "metadata": {
        "id": "trmzx3k6nS7D"
      },
      "source": [
        "<br><br><br><br>\r\n",
        "Using the pre-trained version of CNNFMnist:"
      ]
    },
    {
      "cell_type": "code",
      "metadata": {
        "colab": {
          "base_uri": "https://localhost:8080/",
          "height": 330
        },
        "id": "Vejo3zouPG7J",
        "outputId": "44735b09-b700-4688-a409-145aedd64b90"
      },
      "source": [
        "# Using the pre-trained version of CNNFMnist.\r\n",
        "model_CNNFMnist2_1 = CNNFMnist2(model_CNNFMnist_1)\r\n",
        "\r\n",
        "train_time = time()\r\n",
        "train_acc_pre,test_acc_pre = train_model(DEVICE,model_CNNFMnist2_1,trainloader_FashionMNIST,testloader_FashionMNIST,verbose=False,n_epochs=10)\r\n",
        "train_time = (time()-train_time)/60.0\r\n",
        "\r\n",
        "eval_acc = eval_model(DEVICE,model_CNNFMnist2_1,testloader_FashionMNIST,verbose=True)\r\n",
        "\r\n",
        "# record results for later\r\n",
        "df_results_step3.loc[len(df_results_step3)] = ['pre-trained','Train Time (min)',train_time]\r\n",
        "df_results_step3.loc[len(df_results_step3)] = ['pre-trained','Accuracy',eval_acc]\r\n",
        "\r\n",
        "# plot loss values\r\n",
        "ax1 = sns.lineplot(data=train_acc_pre,label='Train',color='blue');\r\n",
        "ax1 = sns.lineplot(data=test_acc_pre,label='Test', color='red',ax=ax1);\r\n",
        "ax1.set_title('Training pre-trained - loss plot')\r\n",
        "ax1.set_ylabel('Loss')\r\n",
        "ax1.set_xlabel('Epoch')\r\n",
        "ax1.set(xlim=(0, 9))\r\n",
        "ax1.legend()\r\n",
        ";"
      ],
      "execution_count": null,
      "outputs": [
        {
          "output_type": "stream",
          "text": [
            "Accuracy of the network on the test images: 86 %\n"
          ],
          "name": "stdout"
        },
        {
          "output_type": "execute_result",
          "data": {
            "application/vnd.google.colaboratory.intrinsic+json": {
              "type": "string"
            },
            "text/plain": [
              "''"
            ]
          },
          "metadata": {
            "tags": []
          },
          "execution_count": 30
        },
        {
          "output_type": "display_data",
          "data": {
            "image/png": "[encoded data removed]",
            "text/plain": [
              "<Figure size 432x288 with 1 Axes>"
            ]
          },
          "metadata": {
            "tags": [],
            "needs_background": "light"
          }
        }
      ]
    },
    {
      "cell_type": "markdown",
      "metadata": {
        "id": "SWjiscEEnWT9"
      },
      "source": [
        "<br><br><br><br>\r\n",
        "Using a fresh CNNFMnist instance (without training it):"
      ]
    },
    {
      "cell_type": "code",
      "metadata": {
        "colab": {
          "base_uri": "https://localhost:8080/",
          "height": 330
        },
        "id": "ula7ypMdPVPG",
        "outputId": "bb6ffcf7-8814-42cd-be29-f6eabe472756"
      },
      "source": [
        "# Using a fresh CNNFMnist instance (without training it).\r\n",
        "model_CNNFMnist = CNNFMnist()\r\n",
        "model_CNNFMnist2_2 = CNNFMnist2(model_CNNFMnist_2)\r\n",
        "\r\n",
        "train_time = time()\r\n",
        "train_acc_fresh, test_acc_fresh = train_model(DEVICE,model_CNNFMnist2_2,trainloader_FashionMNIST,testloader_FashionMNIST,verbose=False,n_epochs=10)\r\n",
        "train_time = (time()-train_time)/60.0\r\n",
        "\r\n",
        "eval_acc = eval_model(DEVICE,model_CNNFMnist2_2,testloader_FashionMNIST,verbose=True)\r\n",
        "\r\n",
        "# record results for later\r\n",
        "df_results_step3.loc[len(df_results_step3)] = ['fresh','Train Time (min)',train_time]\r\n",
        "df_results_step3.loc[len(df_results_step3)] = ['fresh','Accuracy',eval_acc]\r\n",
        "\r\n",
        "# plot loss values\r\n",
        "ax2 = sns.lineplot(data=train_acc_fresh,label='Train',color='blue');\r\n",
        "ax2 = sns.lineplot(data=test_acc_fresh,label='Test',color='red',ax=ax2);\r\n",
        "ax2.set_title('Training fresh - loss plot')\r\n",
        "ax2.set_ylabel('Loss')\r\n",
        "ax2.set_xlabel('Epoch')\r\n",
        "ax2.set(xlim=(0, 9))\r\n",
        "ax2.legend()\r\n",
        ";"
      ],
      "execution_count": null,
      "outputs": [
        {
          "output_type": "stream",
          "text": [
            "Accuracy of the network on the test images: 70 %\n"
          ],
          "name": "stdout"
        },
        {
          "output_type": "execute_result",
          "data": {
            "application/vnd.google.colaboratory.intrinsic+json": {
              "type": "string"
            },
            "text/plain": [
              "''"
            ]
          },
          "metadata": {
            "tags": []
          },
          "execution_count": 31
        },
        {
          "output_type": "display_data",
          "data": {
            "image/png": "[encoded data removed]",
            "text/plain": [
              "<Figure size 432x288 with 1 Axes>"
            ]
          },
          "metadata": {
            "tags": [],
            "needs_background": "light"
          }
        }
      ]
    },
    {
      "cell_type": "markdown",
      "metadata": {
        "id": "gipuo2ubnaiR"
      },
      "source": [
        "<br><br><br><br>\r\n",
        "Using the pre-trained version of CNNFMnist, after freezing its weights using the .eval() function:"
      ]
    },
    {
      "cell_type": "code",
      "metadata": {
        "colab": {
          "base_uri": "https://localhost:8080/",
          "height": 330
        },
        "id": "3MPXBpCwPVTs",
        "outputId": "28478ec4-6b57-440e-ed67-b2541932af7f"
      },
      "source": [
        "# Using the pre-trained version of CNNFMnist.\r\n",
        "model_CNNFMnist2_3 = CNNFMnist2(model_CNNFMnist_3)\r\n",
        "model_CNNFMnist2_3.freeze_sub_model()    # freezing\r\n",
        "\r\n",
        "train_time = time()\r\n",
        "train_acc_freeze,test_acc_freeze = train_model(DEVICE,model_CNNFMnist2_3,trainloader_FashionMNIST,testloader_FashionMNIST,verbose=False,n_epochs=10)\r\n",
        "train_time = (time()-train_time)/60.0\r\n",
        "\r\n",
        "eval_acc = eval_model(DEVICE,model_CNNFMnist2_3,testloader_FashionMNIST,verbose=True)\r\n",
        "\r\n",
        "# record results for later\r\n",
        "df_results_step3.loc[len(df_results_step3)] = ['freeze pre-trained','Train Time (min)',train_time]\r\n",
        "df_results_step3.loc[len(df_results_step3)] = ['freeze pre-trained','Accuracy',eval_acc]\r\n",
        "\r\n",
        "# plot loss values\r\n",
        "ax3 = sns.lineplot(data=train_acc_freeze,label='Train',color='blue');\r\n",
        "ax3 = sns.lineplot(data=test_acc_freeze,label='Test',color='red',ax=ax3);\r\n",
        "ax3.set_title('Training freeze pre-trained - loss plot')\r\n",
        "ax3.set_ylabel('Loss')\r\n",
        "ax3.set_xlabel('Epoch')\r\n",
        "ax3.set(xlim=(0, 9))\r\n",
        "ax3.legend()\r\n",
        ";"
      ],
      "execution_count": null,
      "outputs": [
        {
          "output_type": "stream",
          "text": [
            "Accuracy of the network on the test images: 76 %\n"
          ],
          "name": "stdout"
        },
        {
          "output_type": "execute_result",
          "data": {
            "application/vnd.google.colaboratory.intrinsic+json": {
              "type": "string"
            },
            "text/plain": [
              "''"
            ]
          },
          "metadata": {
            "tags": []
          },
          "execution_count": 32
        },
        {
          "output_type": "display_data",
          "data": {
            "image/png": "[encoded data removed]",
            "text/plain": [
              "<Figure size 432x288 with 1 Axes>"
            ]
          },
          "metadata": {
            "tags": [],
            "needs_background": "light"
          }
        }
      ]
    },
    {
      "cell_type": "markdown",
      "metadata": {
        "id": "3D8RYdKkrYLr"
      },
      "source": [
        "<br><br><br><br><br>\r\n",
        "<br><br><br><br><br>\r\n",
        "## Results & Conclusions:"
      ]
    },
    {
      "cell_type": "code",
      "metadata": {
        "colab": {
          "base_uri": "https://localhost:8080/",
          "height": 370
        },
        "id": "ixXtpXmiS3hV",
        "outputId": "d5e6feb0-25a0-41e6-8f76-bb006b98d778"
      },
      "source": [
        "# plot loss values\r\n",
        "fig, axes = plt.subplots(1, 2,figsize=(15,5))\r\n",
        "fig.suptitle('Loss Plots')\r\n",
        "\r\n",
        "# train\r\n",
        "ax = axes[0]\r\n",
        "ax = sns.lineplot(data=train_acc_pre,label='pre-trained',ax=ax);\r\n",
        "ax = sns.lineplot(data=train_acc_fresh,label='fresh',ax=ax);\r\n",
        "ax = sns.lineplot(data=train_acc_freeze,label='freeze pre-trained',ax=ax);\r\n",
        "ax.set_title('Training')\r\n",
        "ax.set_ylabel('Loss')\r\n",
        "ax.set_ylabel('Epoch')\r\n",
        "ax.legend()\r\n",
        "\r\n",
        "# test\r\n",
        "ax = axes[1]\r\n",
        "ax = sns.lineplot(data=test_acc_pre,label='pre-trained',ax=ax);\r\n",
        "ax = sns.lineplot(data=test_acc_fresh,label='fresh',ax=ax);\r\n",
        "ax = sns.lineplot(data=test_acc_freeze,label='freeze pre-trained',ax=ax);\r\n",
        "ax.set_title('Testing')\r\n",
        "ax.set_ylabel('Loss')\r\n",
        "ax.set_xlabel('Epoch')\r\n",
        "ax.legend()\r\n",
        ";\r\n",
        "\r\n",
        "plt.show()"
      ],
      "execution_count": null,
      "outputs": [
        {
          "output_type": "display_data",
          "data": {
            "image/png": "[encoded data removed]",
            "text/plain": [
              "<Figure size 1080x360 with 2 Axes>"
            ]
          },
          "metadata": {
            "tags": [],
            "needs_background": "light"
          }
        }
      ]
    },
    {
      "cell_type": "markdown",
      "metadata": {
        "id": "CeykkkwiqzPV"
      },
      "source": [
        "<br><br>\r\n",
        "\r\n",
        "We can see that the two pre-trained versions start with a lower loss already from the first epoch !\r\n",
        "\r\n",
        "<br>\r\n",
        "\r\n",
        "This makes sense, since the model has already some previous knowledge and this is a great proof that the transfer learning really works here.\r\n",
        "\r\n",
        "<br>\r\n",
        "\r\n",
        "We can observe that the fresh version still has potential to become better if it would have been trained using more epochs. This also makes sense, due to the fact that this network started without any previous knowledge and had to learn everything from the beginning.\r\n",
        "\r\n",
        "<br>\r\n",
        "\r\n",
        "The frozen weights version has a hard time keep up with the un-frozen version. As we know, this happens due to the inability (frozen) of the first layers of the net to adapt/learn and change accordingly (update).\r\n",
        "\r\n",
        "<br><br><br>\r\n"
      ]
    },
    {
      "cell_type": "code",
      "metadata": {
        "colab": {
          "base_uri": "https://localhost:8080/",
          "height": 383
        },
        "id": "4_MIoluMRQyR",
        "outputId": "56570a99-73b4-4aa3-f3ca-4dc314b3f0a9"
      },
      "source": [
        "g = sns.catplot(x=\"Version\", y=\"Score\", col=\"Metric\", data=df_results_step3, kind=\"bar\", height=5, aspect=0.7);\r\n",
        "\r\n",
        "for s in range(2):\r\n",
        "  ax = g.facet_axis(0,s)\r\n",
        "  for p in ax.patches:\r\n",
        "    ax.text(p.get_x()+0.25, p.get_height() +0.02, '{0:.3f}'.format(p.get_height()), color='black', rotation='horizontal', size='medium')"
      ],
      "execution_count": null,
      "outputs": [
        {
          "output_type": "display_data",
          "data": {
            "image/png": "[encoded data removed]",
            "text/plain": [
              "<Figure size 504x360 with 2 Axes>"
            ]
          },
          "metadata": {
            "tags": [],
            "needs_background": "light"
          }
        }
      ]
    },
    {
      "cell_type": "markdown",
      "metadata": {
        "id": "o8BH0BxNoNhb"
      },
      "source": [
        "<br><br>\r\n",
        "And not surprisingly, we can see that the training time of the freeze pre-trained model is the fastest.  \r\n",
        "This is because there are significantly less parameters to update(learn/train)  since some of the layes are frozen.\r\n",
        "\r\n",
        "<br><br><br><br>\r\n",
        "<br><br><br><br>\r\n",
        "<br><br><br><br>\r\n",
        "<br><br><br><br>\r\n",
        "<br><br><br><br>\r\n",
        "<br><br><br><br>\r\n",
        "\r\n",
        "\r\n"
      ]
    },
    {
      "cell_type": "markdown",
      "metadata": {
        "id": "Vm5DnMate6s0"
      },
      "source": [
        "# Submission - Assignment 2\n",
        "\n",
        "**NotebookLink:**  \n",
        "*https://colab.research.google.com/drive/11xFzvflXKiiry31dCaLU5cZShJFYsrzb?usp=sharing*  \n",
        "\n",
        "<br>\n",
        "\n",
        "**Submitted by:**  \n",
        "> *300420379 Millis Sahar   \n",
        "301833833 Segal Tomer  \n",
        "203745161 Unger Amit*\n",
        "\n",
        "*(3 students - approved by Kfir)*  \n",
        "\n",
        "<br><br>\n",
        "\n",
        "##### Note: We are using a batch size of 64 (Approved by Kfir)\n",
        "\n",
        "<br><br>"
      ]
    },
    {
      "cell_type": "markdown",
      "metadata": {
        "id": "hX6qq4AivQko"
      },
      "source": [
        "```\r\n",
        "Sample of the elements in the dataset:\r\n",
        "```"
      ]
    },
    {
      "cell_type": "markdown",
      "metadata": {
        "id": "N2ZDYFLjn7y9"
      },
      "source": [
        "![image.png](data:image/png;base64,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)"
      ]
    },
    {
      "cell_type": "markdown",
      "metadata": {
        "id": "aNkqiRpbnQrb"
      },
      "source": [
        "<br><br>\r\n",
        "<br><br>\r\n",
        "<hr>\r\n",
        "<br><br>\r\n",
        "<br><br>\r\n",
        "\r\n",
        "```\r\n",
        "CPU Experiment:\r\n",
        "*   Plot of loss curves (train in blue, test in red)\r\n",
        "```\r\n",
        "\r\n",
        "<br>"
      ]
    },
    {
      "cell_type": "markdown",
      "metadata": {
        "id": "cJvfFpPcnlCy"
      },
      "source": [
        "![image.png](data:image/png;base64,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)"
      ]
    },
    {
      "cell_type": "markdown",
      "metadata": {
        "id": "C_P13NbMcFx_"
      },
      "source": [
        "```\r\n",
        "GPU Experiment:\r\n",
        "*   Plot of loss curves (train in blue, test in red)\r\n",
        "```\r\n",
        "\r\n"
      ]
    },
    {
      "cell_type": "markdown",
      "metadata": {
        "id": "Q3vw2Y0jnn3A"
      },
      "source": [
        "![image.png](data:image/png;base64,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)"
      ]
    },
    {
      "cell_type": "markdown",
      "metadata": {
        "id": "Sq1SSKZNoZBU"
      },
      "source": [
        "```\r\n",
        "Experiment: \r\n",
        "* Training Time\r\n",
        " GPU has the advantage.\r\n",
        "```\r\n",
        "\r\n"
      ]
    },
    {
      "cell_type": "markdown",
      "metadata": {
        "id": "XNZgVfxboNqY"
      },
      "source": [
        "![image.png](data:image/png;base64,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)"
      ]
    },
    {
      "cell_type": "markdown",
      "metadata": {
        "id": "2zq94XFO8CRF"
      },
      "source": [
        "*GPU has the advantage regarding training time & evaluation time, while the accuracy ramain the same.*\r\n",
        "\r\n",
        "<br><br>\r\n",
        "<hr>\r\n",
        "<br><br>"
      ]
    },
    {
      "cell_type": "markdown",
      "metadata": {
        "id": "YW4dZuGQcF0j"
      },
      "source": [
        "```\r\n",
        "Transfer Learning Experiment:\r\n",
        "* Accuracy results on test set for the 2-3 implemeted settings (see above)\r\n",
        "```\r\n",
        "\r\n"
      ]
    },
    {
      "cell_type": "markdown",
      "metadata": {
        "id": "4gbH8_e_8r1W"
      },
      "source": [
        "![image.png](data:image/png;base64,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)"
      ]
    },
    {
      "cell_type": "markdown",
      "metadata": {
        "id": "hjdAfQuV8luU"
      },
      "source": [
        "<br>  \r\n",
        "We can see that the two pre-trained versions **start with a  lower loss** already from the **first epoch**!     \r\n",
        "\r\n",
        "This makes sense, since the model has already some previous knowledge and this is a great proff that the transfer learning really works here.   \r\n",
        "\r\n",
        "While the fresh version still needs more epochs to train on, to get better.\r\n",
        "Which also make sense, due to the fact that the lower layers of the fresh model \"seen\" significantly less images.  \r\n",
        "\r\n",
        "Although, the freeze version has a hard time keep up with the un-freeze version.\r\n",
        "As we know, this happens due to the inability(frozen) of first layers of the net to adapt/learn and change accordingly (update).\r\n",
        "<br><br>"
      ]
    },
    {
      "cell_type": "markdown",
      "metadata": {
        "id": "tFgqlKnZdc-N"
      },
      "source": [
        "![image.png](data:image/png;base64,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)"
      ]
    },
    {
      "cell_type": "markdown",
      "metadata": {
        "id": "KdJo-CRa9QJR"
      },
      "source": [
        "\r\n",
        "<br><br><br>\r\n",
        "\r\n",
        "Regarding **training time**:  \r\n",
        "  - The fresh and pre-train versions are about the same - due to the equal amount of paramaters. (if we added a convergence condition it might be different)\r\n",
        "  - The frozen version, not surprisingly, has a lower training time and is the **fastest**.  This is because there are significantly less parameters to change(train\\learn\\update) since some of the layes are frozen.\r\n",
        "\r\n",
        "<br>\r\n",
        "<br>\r\n",
        "\r\n",
        "Regarding **Accuracy**:  \r\n",
        "  - The fresh version has the lowest accuracy, because the lower lavers \"seen\" less images to train on. This is a good proff that **transfer learning works!**\r\n",
        "  - The frozen version has good performence, but due to the freezon lower layers it has a hard time to generelize to the \"new\" dataset.\r\n",
        "  - The pre-train version has the best accuracy, and this make a lot of sense to us. Due to the transfer learning it comes with a lot of knowlege, and still has the ability(unfrozen layer)  to fit the \"new\" dataset accordingly.\r\n",
        "\r\n",
        "<br>\r\n",
        "<br>\r\n",
        "\r\n",
        "Regarding the **best model** conclusion:  \r\n",
        "  *In this case we will choose the pre-train version. But with a different batch, dataset or networks - we can understand the huge adventage of transfer learning with frozen lower layers.*\r\n"
      ]
    },
    {
      "cell_type": "markdown",
      "metadata": {
        "id": "R1pfvx9wutQg"
      },
      "source": [
        "<br><br><br>\r\n",
        "\r\n",
        "```\r\n",
        "Inside the notebook, you can find all our conclutions, analysis, aditional plots and much more...\r\n",
        "\r\n",
        "Thanks :) \r\n",
        "```"
      ]
    }
  ]
}