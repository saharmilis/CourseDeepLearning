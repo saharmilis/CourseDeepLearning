{
  "nbformat": 4,
  "nbformat_minor": 0,
  "metadata": {
    "colab": {
      "name": "DL Assignment 4 - Attention",
      "provenance": [],
      "collapsed_sections": []
    },
    "kernelspec": {
      "name": "python3",
      "display_name": "Python 3"
    },
    "accelerator": "GPU"
  },
  "cells": [
    {
      "cell_type": "markdown",
      "metadata": {
        "id": "w2Acse04FKm9"
      },
      "source": [
        "\n",
        "# Assignment 4 \n",
        "In this assignment you will be working with a character based LSTM language model, which you will turn into a text classifier for sentiment analysis using **Attention**. For that, you will need to develop the Attention mechanism that aggregates the hidden output vectors that you get per character into a single vector, which you will use as an input for a final linear classifier."
      ]
    },
    {
      "cell_type": "code",
      "metadata": {
        "id": "b2_0Ukwaw58u"
      },
      "source": [
        "import torch\n",
        "import torch.nn.functional as F\n",
        "import numpy as np\n",
        "import matplotlib.pyplot as plt\n",
        "import pandas as pd\n",
        "import seaborn as sns\n",
        "from random import sample\n",
        "from IPython.display import clear_output"
      ],
      "execution_count": null,
      "outputs": []
    },
    {
      "cell_type": "code",
      "metadata": {
        "id": "O4wNWnaQ9x8P",
        "colab": {
          "base_uri": "https://localhost:8080/"
        },
        "outputId": "fda35291-49a8-417c-824f-04fcb43314de"
      },
      "source": [
        "!git clone https://github.com/kfirbar/course-ml-data.git"
      ],
      "execution_count": null,
      "outputs": [
        {
          "output_type": "stream",
          "text": [
            "fatal: destination path 'course-ml-data' already exists and is not an empty directory.\n"
          ],
          "name": "stdout"
        }
      ]
    },
    {
      "cell_type": "markdown",
      "metadata": {
        "id": "KLiw2Xn4Fp2g"
      },
      "source": [
        "The data that you will be working with is SST-2, which is a collection of reviews, each is classified into 0/1 reflecting the overall sentiment of the author (0 = negative, 1 = positive). In the next piece of code, we load the data and create a dictionary (named Vocab) that assigns a unique ID per character, similar to what have done in DL Notebook 12. Finally, each one of *train* and *dev* is a list of tuples, with the first item being the text encoded as character indices, and the second item is the label (0, 1)."
      ]
    },
    {
      "cell_type": "code",
      "metadata": {
        "colab": {
          "base_uri": "https://localhost:8080/"
        },
        "id": "SQnd3bS1xJxN",
        "outputId": "3ad3de38-72c8-4258-d74c-2522b266b2f9"
      },
      "source": [
        "# We will work only with texts of size < 50 characters\n",
        "MAX_SEQ_LEN = 50\n",
        "\n",
        "class Vocab:\n",
        "    def __init__(self):\n",
        "        self.char2id = {}\n",
        "        self.id2char = {}\n",
        "        self.n_chars = 1\n",
        "        \n",
        "    def index_text(self, text):\n",
        "      indexes = [self.index_char(c) for c in text]\n",
        "      return indexes\n",
        "    \n",
        "    def index_char(self, c):\n",
        "        if c not in self.char2id:\n",
        "            self.char2id[c] = self.n_chars\n",
        "            self.id2char[self.n_chars] = c\n",
        "            self.n_chars += 1\n",
        "        return self.char2id[c]\n",
        "            \n",
        "            \n",
        "def load_data(data, vocab):\n",
        "  data_sequences = []\n",
        "  for text in data.iterrows():\n",
        "    if len(text[1][\"sentence\"]) <= MAX_SEQ_LEN:\n",
        "      indexes = vocab.index_text(text[1][\"sentence\"])\n",
        "      data_sequences.append((indexes, text[1][\"label\"]))\n",
        "  return data_sequences\n",
        "\n",
        "vocab = Vocab()\n",
        "train = load_data(pd.read_csv('/content/course-ml-data/SST2_train.tsv', sep='\\t'), vocab)\n",
        "dev = load_data(pd.read_csv('/content/course-ml-data/SST2_dev.tsv', sep='\\t'), vocab)\n",
        "print(f'Train size {len(train)}, Dev size {len(dev)}, vocab size {vocab.n_chars}')"
      ],
      "execution_count": null,
      "outputs": [
        {
          "output_type": "stream",
          "text": [
            "Train size 40625, Dev size 119, vocab size 63\n"
          ],
          "name": "stdout"
        }
      ]
    },
    {
      "cell_type": "code",
      "metadata": {
        "colab": {
          "base_uri": "https://localhost:8080/",
          "height": 295
        },
        "id": "ybU5EUX74fup",
        "outputId": "5e71bb99-19e7-4cad-b944-09c66ed5f3d5"
      },
      "source": [
        "train_labels = [l for (_,l) in train]\r\n",
        "dev_labels   = [l for (_,l) in dev]\r\n",
        "\r\n",
        "plt.figure(figsize=(14,4))\r\n",
        "\r\n",
        "plt.subplot(1,2,1)\r\n",
        "plt.hist(train_labels)\r\n",
        "plt.title('Train')\r\n",
        "plt.ylabel('Amount')\r\n",
        "plt.xlabel('label');\r\n",
        "\r\n",
        "plt.subplot(1,2,2)\r\n",
        "plt.hist(train_labels)\r\n",
        "plt.title('Dev')\r\n",
        "plt.ylabel('Amount')\r\n",
        "plt.xlabel('label');"
      ],
      "execution_count": null,
      "outputs": [
        {
          "output_type": "display_data",
          "data": {
            "image/png": "[encoded data removed]",
            "text/plain": [
              "<Figure size 1008x288 with 2 Axes>"
            ]
          },
          "metadata": {
            "tags": [],
            "needs_background": "light"
          }
        }
      ]
    },
    {
      "cell_type": "markdown",
      "metadata": {
        "id": "MaeBB5qgLgGF"
      },
      "source": [
        "# Task 1\n",
        "The following RNN architectures takes a single sentence as an input (formatted as a 1D tensor of character ids), and returns a distribution over the labels. In our case the number of labels is 2 (negative, positive). \n",
        "\n",
        "I basically copied the same architecture from Notebook 12, where each input character gets an output vector from the LSTM module, which are used to precdict the next character in line. However, here, we are not really interested in predicting the next character, but in aggregating all those output vectors into a single \"context\" vector, which will be sent to a Linear layer for the final classification step.\n",
        "\n",
        "Therefore, you are requested to add the relevant code for aggregating the output vectors using the **additive attention** approach, following presentation *DL 14*. Note that some of what you need to add should be parameters, which you need to define under the __init__ function.\n"
      ]
    },
    {
      "cell_type": "code",
      "metadata": {
        "id": "tIekWqzPxMOL"
      },
      "source": [
        "class SeqModel(torch.nn.Module):\n",
        "  def __init__(self, input_size, embedding_size, hidden_size, output_size):\n",
        "    super(SeqModel, self).__init__()\n",
        "    self.embedding = torch.nn.Embedding(input_size, embedding_size)\n",
        "    self.rnn = torch.nn.LSTM(embedding_size, hidden_size)\n",
        "    \n",
        "    # TODO: add the relevant initialization code for the Attention mechanism\n",
        "    self.new_linear = torch.nn.Linear(hidden_size,hidden_size)\n",
        "    self.V = torch.nn.parameter.Parameter(torch.nn.init.xavier_uniform_(torch.empty((1,hidden_size))))\n",
        "\n",
        "    #  final FC layer\n",
        "    self.out = torch.nn.Linear(hidden_size, output_size)\n",
        "\n",
        "  def forward(self, x):\n",
        "\n",
        "    # embedding\n",
        "    x = self.embedding(x).view(len(x), 1, -1)\n",
        "    \n",
        "    # LSTM\n",
        "    x, _  = self.rnn(x)\n",
        "    x = x.squeeze(dim=1)\n",
        "\n",
        "    # Attention\n",
        "    alpha = self.new_linear(x)\n",
        "    alpha = torch.tanh(alpha)\n",
        "    alpha = torch.mul(alpha,self.V)\n",
        "    alpha = torch.nn.functional.softmax(alpha,dim=1)\n",
        "    \n",
        "    # context\n",
        "    context = torch.sum( x * alpha, dim=0)\n",
        "\n",
        "    return torch.sigmoid(self.out(context)) \n"
      ],
      "execution_count": null,
      "outputs": []
    },
    {
      "cell_type": "markdown",
      "metadata": {
        "id": "LUqEY4PZM6tM"
      },
      "source": [
        "# Task 2\n",
        "Once completed, you are now requested to write some code for training the model using the following configuration. Make sure to print the training loss every 100 sentences so you can follow. Train your code for 4 epochs, and use cuda + GPU."
      ]
    },
    {
      "cell_type": "code",
      "metadata": {
        "id": "1dRU6QFO3wdr"
      },
      "source": [
        "# model\r\n",
        "model = SeqModel(vocab.n_chars, 64, 300, 1).cuda()\r\n",
        "criterion = torch.nn.BCELoss()\r\n",
        "optimizer = torch.optim.Adam(model.parameters())"
      ],
      "execution_count": null,
      "outputs": []
    },
    {
      "cell_type": "code",
      "metadata": {
        "id": "CDjUxq3u4J4S",
        "colab": {
          "base_uri": "https://localhost:8080/"
        },
        "outputId": "08281cdc-e456-49c1-ca77-9827c75208e1"
      },
      "source": [
        "# Your training code goes here\r\n",
        "n_epochs = 4\r\n",
        "print_every = 1000\r\n",
        "loss = []\r\n",
        "\r\n",
        "for e in range(1, n_epochs + 1):\r\n",
        "    clear_output(wait=True)\r\n",
        "\r\n",
        "    loss_ = 0\r\n",
        "    sentence_loss = 0\r\n",
        "    shuff = sample(train, len(train))\r\n",
        "\r\n",
        "    for counter,(sequence,label) in enumerate(shuff):\r\n",
        "\r\n",
        "      optimizer.zero_grad()\r\n",
        "      \r\n",
        "      sequence = torch.tensor(sequence).cuda()\r\n",
        "      label = torch.tensor(label).cuda()\r\n",
        "      \r\n",
        "      output = model(sequence)\r\n",
        "      sentence_loss = criterion(output,label.unsqueeze(0).float())\r\n",
        "      sentence_loss.backward()\r\n",
        "      optimizer.step()\r\n",
        "\r\n",
        "      loss_ += sentence_loss.item()\r\n",
        "      \r\n",
        "      if counter!=0 & (counter % print_every == 0) :\r\n",
        "          loss_ = loss_ / print_every\r\n",
        "          loss.append(loss_)\r\n",
        "          print('Epoch %d, %d/%d, Current Loss = %f' % (e, counter, len(train), loss_))         \r\n",
        "          loss_ = 0\r\n",
        "      "
      ],
      "execution_count": null,
      "outputs": [
        {
          "output_type": "stream",
          "text": [
            "Epoch 4, 0/40625, Current Loss = 0.000002\n",
            "Epoch 4, 1000/40625, Current Loss = 0.294394\n",
            "Epoch 4, 2000/40625, Current Loss = 0.299717\n",
            "Epoch 4, 3000/40625, Current Loss = 0.329156\n",
            "Epoch 4, 4000/40625, Current Loss = 0.307975\n",
            "Epoch 4, 5000/40625, Current Loss = 0.332246\n",
            "Epoch 4, 6000/40625, Current Loss = 0.324518\n",
            "Epoch 4, 7000/40625, Current Loss = 0.337459\n",
            "Epoch 4, 8000/40625, Current Loss = 0.319927\n",
            "Epoch 4, 9000/40625, Current Loss = 0.333583\n",
            "Epoch 4, 10000/40625, Current Loss = 0.343378\n",
            "Epoch 4, 11000/40625, Current Loss = 0.337891\n",
            "Epoch 4, 12000/40625, Current Loss = 0.310937\n",
            "Epoch 4, 13000/40625, Current Loss = 0.352247\n",
            "Epoch 4, 14000/40625, Current Loss = 0.350931\n",
            "Epoch 4, 15000/40625, Current Loss = 0.326284\n",
            "Epoch 4, 16000/40625, Current Loss = 0.298332\n",
            "Epoch 4, 17000/40625, Current Loss = 0.313700\n",
            "Epoch 4, 18000/40625, Current Loss = 0.335824\n",
            "Epoch 4, 19000/40625, Current Loss = 0.341946\n",
            "Epoch 4, 20000/40625, Current Loss = 0.346920\n",
            "Epoch 4, 21000/40625, Current Loss = 0.334585\n",
            "Epoch 4, 22000/40625, Current Loss = 0.368496\n",
            "Epoch 4, 23000/40625, Current Loss = 0.344204\n",
            "Epoch 4, 24000/40625, Current Loss = 0.328498\n",
            "Epoch 4, 25000/40625, Current Loss = 0.319596\n",
            "Epoch 4, 26000/40625, Current Loss = 0.338646\n",
            "Epoch 4, 27000/40625, Current Loss = 0.335431\n",
            "Epoch 4, 28000/40625, Current Loss = 0.325213\n",
            "Epoch 4, 29000/40625, Current Loss = 0.371493\n",
            "Epoch 4, 30000/40625, Current Loss = 0.364464\n",
            "Epoch 4, 31000/40625, Current Loss = 0.320985\n",
            "Epoch 4, 32000/40625, Current Loss = 0.334519\n",
            "Epoch 4, 33000/40625, Current Loss = 0.343396\n",
            "Epoch 4, 34000/40625, Current Loss = 0.363121\n",
            "Epoch 4, 35000/40625, Current Loss = 0.349168\n",
            "Epoch 4, 36000/40625, Current Loss = 0.330011\n",
            "Epoch 4, 37000/40625, Current Loss = 0.354899\n",
            "Epoch 4, 38000/40625, Current Loss = 0.373021\n",
            "Epoch 4, 39000/40625, Current Loss = 0.345850\n",
            "Epoch 4, 40000/40625, Current Loss = 0.358181\n"
          ],
          "name": "stdout"
        }
      ]
    },
    {
      "cell_type": "code",
      "metadata": {
        "colab": {
          "base_uri": "https://localhost:8080/",
          "height": 282
        },
        "id": "ulkoa-I3Rx27",
        "outputId": "9182a69b-430e-48e0-fb38-0cbff477affe"
      },
      "source": [
        "plt.plot(loss)"
      ],
      "execution_count": null,
      "outputs": [
        {
          "output_type": "execute_result",
          "data": {
            "text/plain": [
              "[<matplotlib.lines.Line2D at 0x7fa48685fda0>]"
            ]
          },
          "metadata": {
            "tags": []
          },
          "execution_count": 65
        },
        {
          "output_type": "display_data",
          "data": {
            "image/png": "[encoded data removed]",
            "text/plain": [
              "<Figure size 432x288 with 1 Axes>"
            ]
          },
          "metadata": {
            "tags": [],
            "needs_background": "light"
          }
        }
      ]
    },
    {
      "cell_type": "markdown",
      "metadata": {
        "id": "C5OyAPyrN19u"
      },
      "source": [
        "# Task 3\n",
        "Write some code for evaluating your model on the dev set. Since the data is almost balanced (there are 52 positives in the dev set), let's print accuracy (i.e., the number of correctly classified instances)."
      ]
    },
    {
      "cell_type": "code",
      "metadata": {
        "id": "O1FvyRM8O7Re",
        "colab": {
          "base_uri": "https://localhost:8080/"
        },
        "outputId": "94730a7e-8c61-4317-cfff-fc381db01cfc"
      },
      "source": [
        "# Your evalutation code goes here\r\n",
        "with torch.no_grad():\r\n",
        "    correct = 0\r\n",
        "    total = 0\r\n",
        "    for data in dev:\r\n",
        "        dev_sentence, dev_label = data\r\n",
        "        dev_sentence = torch.tensor(dev_sentence).cuda()\r\n",
        "\r\n",
        "        outputs = model(dev_sentence)\r\n",
        "        predicted = torch.round(outputs.data)\r\n",
        "        total += 1 \r\n",
        "        correct += (predicted == dev_label).sum().item()\r\n",
        "\r\n",
        "    acc = 100.0 * correct / total\r\n",
        "    print(f'Accuracy of the model: {acc} %')"
      ],
      "execution_count": null,
      "outputs": [
        {
          "output_type": "stream",
          "text": [
            "Accuracy of the model: 85.71428571428571 %\n"
          ],
          "name": "stdout"
        }
      ]
    }
  ]
}