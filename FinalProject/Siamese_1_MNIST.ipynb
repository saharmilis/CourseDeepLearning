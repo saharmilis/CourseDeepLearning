{
  "nbformat": 4,
  "nbformat_minor": 0,
  "metadata": {
    "colab": {
      "name": "Siamese_3_MNIST.ipynb",
      "provenance": [],
      "collapsed_sections": [],
      "machine_shape": "hm"
    },
    "kernelspec": {
      "name": "python3",
      "display_name": "Python 3"
    },
    "accelerator": "GPU"
  },
  "cells": [
    {
      "cell_type": "code",
      "metadata": {
        "id": "5ja31XYXJMJX"
      },
      "source": [
        "import torch\r\n",
        "import torch.nn as nn\r\n",
        "import torchvision\r\n",
        "\r\n",
        "import torch.nn.functional as F\r\n",
        "import torchvision.transforms as transforms\r\n",
        "from torch.utils.data import Dataset, DataLoader\r\n",
        "\r\n",
        "import math\r\n",
        "import numpy as np\r\n",
        "\r\n",
        "import matplotlib.pyplot as plt"
      ],
      "execution_count": null,
      "outputs": []
    },
    {
      "cell_type": "code",
      "metadata": {
        "colab": {
          "base_uri": "https://localhost:8080/"
        },
        "id": "oNei_64hK3k_",
        "outputId": "4bae713c-84ca-46b4-c118-3bd1074f017c"
      },
      "source": [
        "DEVICE = torch.device(\"cuda\" if torch.cuda.is_available() else \"cpu\")\r\n",
        "DEVICE"
      ],
      "execution_count": null,
      "outputs": [
        {
          "output_type": "execute_result",
          "data": {
            "text/plain": [
              "device(type='cuda')"
            ]
          },
          "metadata": {
            "tags": []
          },
          "execution_count": 2
        }
      ]
    },
    {
      "cell_type": "code",
      "metadata": {
        "id": "-NITI5GCK9q-"
      },
      "source": [
        "mnist = torchvision.datasets.MNIST(root='./data', train=True, download=True, transform=[transforms.ToTensor])\r\n",
        "\r\n",
        "trainloader = DataLoader(mnist,batch_size=1)"
      ],
      "execution_count": null,
      "outputs": []
    },
    {
      "cell_type": "code",
      "metadata": {
        "id": "m6KdIcZELlb7"
      },
      "source": [
        "transform = transforms.Compose([transforms.ToTensor(),transforms.Normalize(mean=(0), std=(1))])\r\n",
        "\r\n",
        "\r\n",
        "trainset = torchvision.datasets.MNIST(root='./data', train=True,download=True, transform=transform)\r\n",
        "trainloader = torch.utils.data.DataLoader(trainset, batch_size=1,shuffle=True, num_workers=2)\r\n",
        "\r\n",
        "dataiter = iter(trainloader)\r\n",
        "images, labels = dataiter.next()"
      ],
      "execution_count": null,
      "outputs": []
    },
    {
      "cell_type": "code",
      "metadata": {
        "colab": {
          "base_uri": "https://localhost:8080/"
        },
        "id": "ywB8dGy0NHoM",
        "outputId": "af9ef7c1-1230-417e-bc1b-cacccfcc30b1"
      },
      "source": [
        "images.shape"
      ],
      "execution_count": null,
      "outputs": [
        {
          "output_type": "execute_result",
          "data": {
            "text/plain": [
              "torch.Size([1, 1, 28, 28])"
            ]
          },
          "metadata": {
            "tags": []
          },
          "execution_count": 5
        }
      ]
    },
    {
      "cell_type": "code",
      "metadata": {
        "colab": {
          "base_uri": "https://localhost:8080/",
          "height": 265
        },
        "id": "5QSVpvhENsYL",
        "outputId": "0073809b-fbbf-438a-e67f-0cbfcc3e45f2"
      },
      "source": [
        "# random crop & reflected\r\n",
        "transform = transforms.Compose([transforms.RandomCrop(size=28,padding=5), transforms.ToTensor(),transforms.Normalize(mean=(0), std=(1))])\r\n",
        "\r\n",
        "trainset = torchvision.datasets.MNIST(root='./data', train=True,download=True, transform=transform)\r\n",
        "trainloader = torch.utils.data.DataLoader(trainset, batch_size=1,shuffle=True, num_workers=2)\r\n",
        "\r\n",
        "dataiter = iter(trainloader)\r\n",
        "images, labels = dataiter.next()\r\n",
        "\r\n",
        "\r\n",
        "plt.imshow(images[0][0],cmap='gray')\r\n",
        "plt.axis('off');\r\n",
        "\r\n",
        "images.shape"
      ],
      "execution_count": null,
      "outputs": [
        {
          "output_type": "execute_result",
          "data": {
            "text/plain": [
              "torch.Size([1, 1, 28, 28])"
            ]
          },
          "metadata": {
            "tags": []
          },
          "execution_count": 6
        },
        {
          "output_type": "display_data",
          "data": {
            "image/png": "[encoded data removed]",
            "text/plain": [
              "<Figure size 432x288 with 1 Axes>"
            ]
          },
          "metadata": {
            "tags": [],
            "needs_background": "light"
          }
        }
      ]
    },
    {
      "cell_type": "code",
      "metadata": {
        "id": "oVv271TeO7av"
      },
      "source": [
        "transform = transforms.Compose([transforms.ToTensor(),transforms.Normalize(mean=(0), std=(1))])\r\n",
        "\r\n",
        "\r\n",
        "trainset = torchvision.datasets.MNIST(root='./data', train=True,download=True, transform=transform)\r\n",
        "trainloader = torch.utils.data.DataLoader(trainset, batch_size=1,shuffle=True, num_workers=2)\r\n",
        "\r\n",
        "dataiter = iter(trainloader)\r\n",
        "images, labels = dataiter.next()"
      ],
      "execution_count": null,
      "outputs": []
    },
    {
      "cell_type": "code",
      "metadata": {
        "id": "PdLelRl4RrT_"
      },
      "source": [
        ""
      ],
      "execution_count": null,
      "outputs": []
    },
    {
      "cell_type": "code",
      "metadata": {
        "colab": {
          "base_uri": "https://localhost:8080/",
          "height": 496
        },
        "id": "1sqFEFd2Qjdc",
        "outputId": "ebf1dee3-3d57-4415-b9ce-0174297e4286"
      },
      "source": [
        "transform_crop = transforms.Compose([transforms.ToPILImage(),transforms.RandomCrop(size=28,padding=5), transforms.ToTensor(),transforms.Normalize(mean=(0), std=(1))])\r\n",
        "\r\n",
        "img = transform_crop(images[0])\r\n",
        "\r\n",
        "\r\n",
        "plt.imshow(images[0][0],cmap='gray')\r\n",
        "plt.axis('off');\r\n",
        "plt.show();\r\n",
        "\r\n",
        "plt.imshow(img[0],cmap='gray')\r\n",
        "plt.axis('off');\r\n",
        "plt.show();\r\n",
        "images.shape"
      ],
      "execution_count": null,
      "outputs": [
        {
          "output_type": "display_data",
          "data": {
            "image/png": "[encoded data removed]",
            "text/plain": [
              "<Figure size 432x288 with 1 Axes>"
            ]
          },
          "metadata": {
            "tags": [],
            "needs_background": "light"
          }
        },
        {
          "output_type": "display_data",
          "data": {
            "image/png": "[encoded data removed]",
            "text/plain": [
              "<Figure size 432x288 with 1 Axes>"
            ]
          },
          "metadata": {
            "tags": [],
            "needs_background": "light"
          }
        },
        {
          "output_type": "execute_result",
          "data": {
            "text/plain": [
              "torch.Size([1, 1, 28, 28])"
            ]
          },
          "metadata": {
            "tags": []
          },
          "execution_count": 8
        }
      ]
    },
    {
      "cell_type": "code",
      "metadata": {
        "id": "qma6NNGAkG37"
      },
      "source": [
        "class AddGaussianNoise(object):\r\n",
        "    def __init__(self, mean=0., std=1.):\r\n",
        "        self.std = std\r\n",
        "        self.mean = mean\r\n",
        "        \r\n",
        "    def __call__(self, tensor):\r\n",
        "        return tensor + torch.randn(tensor.size()) * self.std + self.mean\r\n",
        "    \r\n",
        "    def __repr__(self):\r\n",
        "        return self.__class__.__name__ + '(mean={0}, std={1})'.format(self.mean, self.std)"
      ],
      "execution_count": null,
      "outputs": []
    },
    {
      "cell_type": "code",
      "metadata": {
        "id": "HJHP2lY9R90o"
      },
      "source": [
        "class AugmentationSiameseDataset(Dataset):\r\n",
        "    def __init__(self):\r\n",
        "\r\n",
        "        # initial transformations\r\n",
        "        self.transform = transforms.Compose([  transforms.ToTensor(),transforms.Normalize(mean=(0), std=(1))   ])\r\n",
        "\r\n",
        "        # augmentations\r\n",
        "        self.augmentations = transforms.Compose([transforms.ToPILImage(),\r\n",
        "                                                 transforms.RandomCrop(size=28,padding=5),\r\n",
        "                                                 transforms.RandomRotation(30),\r\n",
        "                                                 transforms.ToTensor()])\r\n",
        "                                                #  AddGaussianNoise(0.,0.1)])\r\n",
        "\r\n",
        "        # original dataset\r\n",
        "        self.trainset = torchvision.datasets.MNIST(root='./data', train=True,download=True, transform=self.transform)\r\n",
        "        self.len = len(self.trainset)\r\n",
        "\r\n",
        "        # original trainloaders\r\n",
        "        self.trainloader1 = torch.utils.data.DataLoader(self.trainset, batch_size=1,shuffle=True)\r\n",
        "        self.trainloader2 = torch.utils.data.DataLoader(self.trainset, batch_size=1,shuffle=True)\r\n",
        "        self.reset_iterators() \r\n",
        "\r\n",
        "    def reset_iterators(self):\r\n",
        "        # original iterator\r\n",
        "        self.iter1 = iter(self.trainloader1)\r\n",
        "        self.iter2 = iter(self.trainloader2)\r\n",
        "        self.counter = 0\r\n",
        "\r\n",
        "        \r\n",
        "    def __len__(self):\r\n",
        "        # same as the legth of the original dataset\r\n",
        "        return self.len\r\n",
        "\r\n",
        "    def __getitem__(self, idx):\r\n",
        "\r\n",
        "        # iterations\r\n",
        "        if self.counter == self.len:\r\n",
        "          self.reset_iterators()\r\n",
        "        else:\r\n",
        "          self.counter +=1\r\n",
        "\r\n",
        "        # first image\r\n",
        "        img1, _ = next(self.iter1)\r\n",
        "\r\n",
        "        # remove the batch dim\r\n",
        "        img1 = img1[0]\r\n",
        "        \r\n",
        "        if torch.rand(1)>0.2: \r\n",
        "          # hard example - augment the current image\r\n",
        "          img2 = self.augmentations(img1)\r\n",
        "          label = 1\r\n",
        "        else: \r\n",
        "          # easy example - sample from all dataset\r\n",
        "          img2, label2 = next(self.iter2)\r\n",
        "          img2 = img2[0]\r\n",
        "          label = 0 \r\n",
        "\r\n",
        "        # return output\r\n",
        "        return img1,img2,label\r\n"
      ],
      "execution_count": null,
      "outputs": []
    },
    {
      "cell_type": "code",
      "metadata": {
        "id": "dCicjdlPVUjN"
      },
      "source": [
        "class Siamese(nn.Module):\r\n",
        "\r\n",
        "    def __init__(self):\r\n",
        "        super(Siamese,self).__init__()\r\n",
        "\r\n",
        "        self.conv1 = nn.Conv2d(1, 8, kernel_size=3)\r\n",
        "        self.conv2 = nn.Conv2d(8, 16, kernel_size=3)\r\n",
        "        \r\n",
        "        self.pool1 = nn.MaxPool2d( kernel_size=2, stride=2)\r\n",
        "        self.pool2 = nn.MaxPool2d( kernel_size=3)\r\n",
        "        \r\n",
        "        self.lin1 = nn.Linear(144, 64)\r\n",
        "        self.lin2 = nn.Linear(64, 32)\r\n",
        "        self.lin3 = nn.Linear(32, 10)\r\n",
        "        \r\n",
        "    def forward_once(self,x):\r\n",
        "        \r\n",
        "        # forwarding the input through the layers\r\n",
        "          \r\n",
        "        out = self.pool1(nn.functional.relu(self.conv1(x)))\r\n",
        "        out = self.pool2(nn.functional.relu(self.conv2(out)))\r\n",
        "        \r\n",
        "        out = out.view(-1,144)\r\n",
        "        \r\n",
        "        out = nn.functional.relu(self.lin1(out))\r\n",
        "        out = nn.functional.relu(self.lin2(out))\r\n",
        "        out = self.lin3(out)\r\n",
        "        \r\n",
        "        return out\r\n",
        "    \r\n",
        "    def forward(self, x1, x2):    \r\n",
        "        \r\n",
        "        # doing the forwarding twice so as to obtain the same functions as that of twin networks\r\n",
        "        \r\n",
        "        out1 = self.forward_once(x1)\r\n",
        "        out2 = self.forward_once(x2)\r\n",
        "        \r\n",
        "        return out1, out2"
      ],
      "execution_count": null,
      "outputs": []
    },
    {
      "cell_type": "markdown",
      "metadata": {
        "id": "hax2icrNjef7"
      },
      "source": [
        "![image.png](data:image/png;base64,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)"
      ]
    },
    {
      "cell_type": "code",
      "metadata": {
        "id": "iIcoZVPlW0sy"
      },
      "source": [
        "class ContrastiveLoss(nn.Module):\r\n",
        " \r\n",
        "    def __init__(self, margin=2.0):\r\n",
        "        super(ContrastiveLoss, self).__init__()\r\n",
        "        self.margin = margin\r\n",
        "\r\n",
        "    def forward(self, output1, output2, label):\r\n",
        "        euclidean_distance = nn.functional.pairwise_distance(output1, output2)\r\n",
        "        loss_contrastive =  (label) * torch.pow(euclidean_distance, 2) + (1-label) * torch.pow(torch.clamp(self.margin - euclidean_distance, min=0.0), 2)\r\n",
        "        return torch.mean(loss_contrastive)"
      ],
      "execution_count": null,
      "outputs": []
    },
    {
      "cell_type": "code",
      "metadata": {
        "id": "M2urvpQSW4zN"
      },
      "source": [
        "ds = AugmentationSiameseDataset()\r\n",
        "tl = torch.utils.data.DataLoader(ds,batch_size=128)\r\n",
        "\r\n",
        "model = Siamese().to(DEVICE)\r\n",
        "criterion = ContrastiveLoss()\r\n",
        "Optimizer = torch.optim.Adam(model.parameters(),lr = 0.001 )"
      ],
      "execution_count": null,
      "outputs": []
    },
    {
      "cell_type": "code",
      "metadata": {
        "colab": {
          "base_uri": "https://localhost:8080/"
        },
        "id": "FlAxgj6LXCWp",
        "outputId": "3d82e1bc-c9e3-4430-fd5c-8cb3f6a527d6"
      },
      "source": [
        "img1,img2,label = next(iter(tl))\r\n",
        "\r\n",
        "output1,output2 = model(img1.to(DEVICE),img2.to(DEVICE))\r\n",
        "\r\n",
        "criterion(output1,output2,label.to(DEVICE))\r\n"
      ],
      "execution_count": null,
      "outputs": [
        {
          "output_type": "execute_result",
          "data": {
            "text/plain": [
              "tensor(1.9968, device='cuda:0', grad_fn=<MeanBackward0>)"
            ]
          },
          "metadata": {
            "tags": []
          },
          "execution_count": 31
        }
      ]
    },
    {
      "cell_type": "code",
      "metadata": {
        "colab": {
          "base_uri": "https://localhost:8080/",
          "height": 199
        },
        "id": "JJzDZ00qjlEd",
        "outputId": "c1bcbf54-6518-45fb-88df-ca609ad48f61"
      },
      "source": [
        "counter = 0\r\n",
        "for imgs1,imgs2,label in tl:\r\n",
        "  output1,output2 = model(imgs1,imgs2)\r\n",
        "  distance = nn.functional.pairwise_distance(output1,output2)\r\n",
        "\r\n",
        "  plt.subplot(1,2,1)\r\n",
        "  plt.imshow(imgs1[0][0],cmap='gray')\r\n",
        "  plt.axis('off')\r\n",
        "  plt.title('label = ' + str(label[0].item()) )\r\n",
        "\r\n",
        "  plt.subplot(1,2,2)\r\n",
        "  plt.imshow(imgs2[0][0],cmap='gray')\r\n",
        "  plt.axis('off')\r\n",
        "  plt.title('similarity = ' + str(distance[0].item()) )\r\n",
        "\r\n",
        "  break"
      ],
      "execution_count": null,
      "outputs": [
        {
          "output_type": "display_data",
          "data": {
            "image/png": "[encoded data removed]",
            "text/plain": [
              "<Figure size 432x288 with 2 Axes>"
            ]
          },
          "metadata": {
            "tags": [],
            "needs_background": "light"
          }
        }
      ]
    },
    {
      "cell_type": "code",
      "metadata": {
        "id": "ZnuUc975kRbt"
      },
      "source": [
        ""
      ],
      "execution_count": null,
      "outputs": []
    },
    {
      "cell_type": "code",
      "metadata": {
        "colab": {
          "base_uri": "https://localhost:8080/",
          "height": 1000
        },
        "id": "fmKFigGcZNoC",
        "outputId": "84cd82a6-61f6-4598-bc50-39bc375804d4"
      },
      "source": [
        "for epoch in range(0,20):\r\n",
        "    losses = []\r\n",
        "    for data in tl:\r\n",
        "   \r\n",
        "        img1  = data[0].to(DEVICE)\r\n",
        "        img2  = data[1].to(DEVICE)\r\n",
        "        label = data[2].to(DEVICE)\r\n",
        "    \r\n",
        "        Optimizer.zero_grad()\r\n",
        "        \r\n",
        "        output1,output2 = model(img1,img2)\r\n",
        "        \r\n",
        "        loss = criterion(output1,output2,label)        \r\n",
        "        loss.backward()\r\n",
        "        \r\n",
        "        losses.append(loss.item())\r\n",
        "        Optimizer.step()\r\n",
        "    \r\n",
        "      # printing the training errors\r\n",
        "        if len(losses)%100 == 0:\r\n",
        "          print(\"[{}/{}] Mean loss = {}\".format(epoch,len(losses),np.mean(losses)))\r\n"
      ],
      "execution_count": null,
      "outputs": [
        {
          "output_type": "stream",
          "text": [
            "0/100 Mean loss = 0.8862018293142319\n",
            "0/200 Mean loss = 0.7030246895551682\n",
            "0/300 Mean loss = 0.6128834021091462\n",
            "0/400 Mean loss = 0.5570358145982027\n",
            "1/100 Mean loss = 0.36339778423309327\n",
            "1/200 Mean loss = 0.3499831992387772\n",
            "1/300 Mean loss = 0.3422537751495838\n",
            "1/400 Mean loss = 0.33448208335787055\n",
            "2/100 Mean loss = 0.3053423854708672\n",
            "2/200 Mean loss = 0.3013738688081503\n",
            "2/300 Mean loss = 0.2964136084417502\n",
            "2/400 Mean loss = 0.2927210739254951\n",
            "4/100 Mean loss = 0.28373642459511755\n",
            "4/200 Mean loss = 0.2797082281857729\n",
            "4/300 Mean loss = 0.27563230350613593\n",
            "4/400 Mean loss = 0.2730008362978697\n",
            "6/100 Mean loss = 0.25857206240296365\n",
            "6/200 Mean loss = 0.25802531994879246\n",
            "6/300 Mean loss = 0.2581936299304167\n",
            "6/400 Mean loss = 0.2564614053815603\n",
            "8/100 Mean loss = 0.25071453213691713\n",
            "8/200 Mean loss = 0.2473609021306038\n",
            "8/300 Mean loss = 0.24668731639782587\n",
            "8/400 Mean loss = 0.2431569430604577\n",
            "10/100 Mean loss = 0.24053986087441445\n",
            "10/200 Mean loss = 0.23986978515982627\n",
            "10/300 Mean loss = 0.23916474158565204\n",
            "10/400 Mean loss = 0.2370428391173482\n",
            "12/100 Mean loss = 0.22906544044613839\n",
            "12/200 Mean loss = 0.22822977483272552\n",
            "12/300 Mean loss = 0.22855199163158735\n",
            "12/400 Mean loss = 0.22928906749933958\n",
            "14/100 Mean loss = 0.2240987502038479\n",
            "14/200 Mean loss = 0.22401112392544748\n",
            "14/300 Mean loss = 0.222326087107261\n",
            "14/400 Mean loss = 0.22143048949539662\n",
            "16/100 Mean loss = 0.22050268530845643\n",
            "16/200 Mean loss = 0.2197885710000992\n",
            "16/300 Mean loss = 0.2175313207010428\n",
            "16/400 Mean loss = 0.2169649797305465\n",
            "18/100 Mean loss = 0.20929844945669174\n",
            "18/200 Mean loss = 0.20892774552106858\n",
            "18/300 Mean loss = 0.2090645845234394\n",
            "18/400 Mean loss = 0.20859812438488007\n",
            "20/100 Mean loss = 0.20596513748168946\n",
            "20/200 Mean loss = 0.2077881509065628\n",
            "20/300 Mean loss = 0.20602946052948634\n",
            "20/400 Mean loss = 0.20518243182450532\n",
            "22/100 Mean loss = 0.2019084107875824\n",
            "22/200 Mean loss = 0.20430768392980098\n",
            "22/300 Mean loss = 0.20163173377513885\n",
            "22/400 Mean loss = 0.2005907469242811\n",
            "24/100 Mean loss = 0.19156408280134202\n",
            "24/200 Mean loss = 0.19469850070774555\n",
            "24/300 Mean loss = 0.19786472784976164\n",
            "24/400 Mean loss = 0.19634053392335774\n"
          ],
          "name": "stdout"
        },
        {
          "output_type": "error",
          "ename": "KeyboardInterrupt",
          "evalue": "ignored",
          "traceback": [
            "\u001b[0;31m---------------------------------------------------------------------------\u001b[0m",
            "\u001b[0;31mKeyboardInterrupt\u001b[0m                         Traceback (most recent call last)",
            "\u001b[0;32m<ipython-input-33-28b60c0f445f>\u001b[0m in \u001b[0;36m<module>\u001b[0;34m()\u001b[0m\n\u001b[1;32m      1\u001b[0m \u001b[0;32mfor\u001b[0m \u001b[0mepoch\u001b[0m \u001b[0;32min\u001b[0m \u001b[0mrange\u001b[0m\u001b[0;34m(\u001b[0m\u001b[0;36m0\u001b[0m\u001b[0;34m,\u001b[0m\u001b[0;36m100\u001b[0m\u001b[0;34m)\u001b[0m\u001b[0;34m:\u001b[0m\u001b[0;34m\u001b[0m\u001b[0;34m\u001b[0m\u001b[0m\n\u001b[1;32m      2\u001b[0m     \u001b[0mlosses\u001b[0m \u001b[0;34m=\u001b[0m \u001b[0;34m[\u001b[0m\u001b[0;34m]\u001b[0m\u001b[0;34m\u001b[0m\u001b[0;34m\u001b[0m\u001b[0m\n\u001b[0;32m----> 3\u001b[0;31m     \u001b[0;32mfor\u001b[0m \u001b[0mdata\u001b[0m \u001b[0;32min\u001b[0m \u001b[0mtl\u001b[0m\u001b[0;34m:\u001b[0m\u001b[0;34m\u001b[0m\u001b[0;34m\u001b[0m\u001b[0m\n\u001b[0m\u001b[1;32m      4\u001b[0m \u001b[0;34m\u001b[0m\u001b[0m\n\u001b[1;32m      5\u001b[0m         \u001b[0mimg1\u001b[0m  \u001b[0;34m=\u001b[0m \u001b[0mdata\u001b[0m\u001b[0;34m[\u001b[0m\u001b[0;36m0\u001b[0m\u001b[0;34m]\u001b[0m\u001b[0;34m.\u001b[0m\u001b[0mto\u001b[0m\u001b[0;34m(\u001b[0m\u001b[0mDEVICE\u001b[0m\u001b[0;34m)\u001b[0m\u001b[0;34m\u001b[0m\u001b[0;34m\u001b[0m\u001b[0m\n",
            "\u001b[0;32m/usr/local/lib/python3.6/dist-packages/torch/utils/data/dataloader.py\u001b[0m in \u001b[0;36m__next__\u001b[0;34m(self)\u001b[0m\n\u001b[1;32m    433\u001b[0m         \u001b[0;32mif\u001b[0m \u001b[0mself\u001b[0m\u001b[0;34m.\u001b[0m\u001b[0m_sampler_iter\u001b[0m \u001b[0;32mis\u001b[0m \u001b[0;32mNone\u001b[0m\u001b[0;34m:\u001b[0m\u001b[0;34m\u001b[0m\u001b[0;34m\u001b[0m\u001b[0m\n\u001b[1;32m    434\u001b[0m             \u001b[0mself\u001b[0m\u001b[0;34m.\u001b[0m\u001b[0m_reset\u001b[0m\u001b[0;34m(\u001b[0m\u001b[0;34m)\u001b[0m\u001b[0;34m\u001b[0m\u001b[0;34m\u001b[0m\u001b[0m\n\u001b[0;32m--> 435\u001b[0;31m         \u001b[0mdata\u001b[0m \u001b[0;34m=\u001b[0m \u001b[0mself\u001b[0m\u001b[0;34m.\u001b[0m\u001b[0m_next_data\u001b[0m\u001b[0;34m(\u001b[0m\u001b[0;34m)\u001b[0m\u001b[0;34m\u001b[0m\u001b[0;34m\u001b[0m\u001b[0m\n\u001b[0m\u001b[1;32m    436\u001b[0m         \u001b[0mself\u001b[0m\u001b[0;34m.\u001b[0m\u001b[0m_num_yielded\u001b[0m \u001b[0;34m+=\u001b[0m \u001b[0;36m1\u001b[0m\u001b[0;34m\u001b[0m\u001b[0;34m\u001b[0m\u001b[0m\n\u001b[1;32m    437\u001b[0m         \u001b[0;32mif\u001b[0m \u001b[0mself\u001b[0m\u001b[0;34m.\u001b[0m\u001b[0m_dataset_kind\u001b[0m \u001b[0;34m==\u001b[0m \u001b[0m_DatasetKind\u001b[0m\u001b[0;34m.\u001b[0m\u001b[0mIterable\u001b[0m \u001b[0;32mand\u001b[0m\u001b[0;31m \u001b[0m\u001b[0;31m\\\u001b[0m\u001b[0;34m\u001b[0m\u001b[0;34m\u001b[0m\u001b[0m\n",
            "\u001b[0;32m/usr/local/lib/python3.6/dist-packages/torch/utils/data/dataloader.py\u001b[0m in \u001b[0;36m_next_data\u001b[0;34m(self)\u001b[0m\n\u001b[1;32m    473\u001b[0m     \u001b[0;32mdef\u001b[0m \u001b[0m_next_data\u001b[0m\u001b[0;34m(\u001b[0m\u001b[0mself\u001b[0m\u001b[0;34m)\u001b[0m\u001b[0;34m:\u001b[0m\u001b[0;34m\u001b[0m\u001b[0;34m\u001b[0m\u001b[0m\n\u001b[1;32m    474\u001b[0m         \u001b[0mindex\u001b[0m \u001b[0;34m=\u001b[0m \u001b[0mself\u001b[0m\u001b[0;34m.\u001b[0m\u001b[0m_next_index\u001b[0m\u001b[0;34m(\u001b[0m\u001b[0;34m)\u001b[0m  \u001b[0;31m# may raise StopIteration\u001b[0m\u001b[0;34m\u001b[0m\u001b[0;34m\u001b[0m\u001b[0m\n\u001b[0;32m--> 475\u001b[0;31m         \u001b[0mdata\u001b[0m \u001b[0;34m=\u001b[0m \u001b[0mself\u001b[0m\u001b[0;34m.\u001b[0m\u001b[0m_dataset_fetcher\u001b[0m\u001b[0;34m.\u001b[0m\u001b[0mfetch\u001b[0m\u001b[0;34m(\u001b[0m\u001b[0mindex\u001b[0m\u001b[0;34m)\u001b[0m  \u001b[0;31m# may raise StopIteration\u001b[0m\u001b[0;34m\u001b[0m\u001b[0;34m\u001b[0m\u001b[0m\n\u001b[0m\u001b[1;32m    476\u001b[0m         \u001b[0;32mif\u001b[0m \u001b[0mself\u001b[0m\u001b[0;34m.\u001b[0m\u001b[0m_pin_memory\u001b[0m\u001b[0;34m:\u001b[0m\u001b[0;34m\u001b[0m\u001b[0;34m\u001b[0m\u001b[0m\n\u001b[1;32m    477\u001b[0m             \u001b[0mdata\u001b[0m \u001b[0;34m=\u001b[0m \u001b[0m_utils\u001b[0m\u001b[0;34m.\u001b[0m\u001b[0mpin_memory\u001b[0m\u001b[0;34m.\u001b[0m\u001b[0mpin_memory\u001b[0m\u001b[0;34m(\u001b[0m\u001b[0mdata\u001b[0m\u001b[0;34m)\u001b[0m\u001b[0;34m\u001b[0m\u001b[0;34m\u001b[0m\u001b[0m\n",
            "\u001b[0;32m/usr/local/lib/python3.6/dist-packages/torch/utils/data/_utils/fetch.py\u001b[0m in \u001b[0;36mfetch\u001b[0;34m(self, possibly_batched_index)\u001b[0m\n\u001b[1;32m     42\u001b[0m     \u001b[0;32mdef\u001b[0m \u001b[0mfetch\u001b[0m\u001b[0;34m(\u001b[0m\u001b[0mself\u001b[0m\u001b[0;34m,\u001b[0m \u001b[0mpossibly_batched_index\u001b[0m\u001b[0;34m)\u001b[0m\u001b[0;34m:\u001b[0m\u001b[0;34m\u001b[0m\u001b[0;34m\u001b[0m\u001b[0m\n\u001b[1;32m     43\u001b[0m         \u001b[0;32mif\u001b[0m \u001b[0mself\u001b[0m\u001b[0;34m.\u001b[0m\u001b[0mauto_collation\u001b[0m\u001b[0;34m:\u001b[0m\u001b[0;34m\u001b[0m\u001b[0;34m\u001b[0m\u001b[0m\n\u001b[0;32m---> 44\u001b[0;31m             \u001b[0mdata\u001b[0m \u001b[0;34m=\u001b[0m \u001b[0;34m[\u001b[0m\u001b[0mself\u001b[0m\u001b[0;34m.\u001b[0m\u001b[0mdataset\u001b[0m\u001b[0;34m[\u001b[0m\u001b[0midx\u001b[0m\u001b[0;34m]\u001b[0m \u001b[0;32mfor\u001b[0m \u001b[0midx\u001b[0m \u001b[0;32min\u001b[0m \u001b[0mpossibly_batched_index\u001b[0m\u001b[0;34m]\u001b[0m\u001b[0;34m\u001b[0m\u001b[0;34m\u001b[0m\u001b[0m\n\u001b[0m\u001b[1;32m     45\u001b[0m         \u001b[0;32melse\u001b[0m\u001b[0;34m:\u001b[0m\u001b[0;34m\u001b[0m\u001b[0;34m\u001b[0m\u001b[0m\n\u001b[1;32m     46\u001b[0m             \u001b[0mdata\u001b[0m \u001b[0;34m=\u001b[0m \u001b[0mself\u001b[0m\u001b[0;34m.\u001b[0m\u001b[0mdataset\u001b[0m\u001b[0;34m[\u001b[0m\u001b[0mpossibly_batched_index\u001b[0m\u001b[0;34m]\u001b[0m\u001b[0;34m\u001b[0m\u001b[0;34m\u001b[0m\u001b[0m\n",
            "\u001b[0;32m/usr/local/lib/python3.6/dist-packages/torch/utils/data/_utils/fetch.py\u001b[0m in \u001b[0;36m<listcomp>\u001b[0;34m(.0)\u001b[0m\n\u001b[1;32m     42\u001b[0m     \u001b[0;32mdef\u001b[0m \u001b[0mfetch\u001b[0m\u001b[0;34m(\u001b[0m\u001b[0mself\u001b[0m\u001b[0;34m,\u001b[0m \u001b[0mpossibly_batched_index\u001b[0m\u001b[0;34m)\u001b[0m\u001b[0;34m:\u001b[0m\u001b[0;34m\u001b[0m\u001b[0;34m\u001b[0m\u001b[0m\n\u001b[1;32m     43\u001b[0m         \u001b[0;32mif\u001b[0m \u001b[0mself\u001b[0m\u001b[0;34m.\u001b[0m\u001b[0mauto_collation\u001b[0m\u001b[0;34m:\u001b[0m\u001b[0;34m\u001b[0m\u001b[0;34m\u001b[0m\u001b[0m\n\u001b[0;32m---> 44\u001b[0;31m             \u001b[0mdata\u001b[0m \u001b[0;34m=\u001b[0m \u001b[0;34m[\u001b[0m\u001b[0mself\u001b[0m\u001b[0;34m.\u001b[0m\u001b[0mdataset\u001b[0m\u001b[0;34m[\u001b[0m\u001b[0midx\u001b[0m\u001b[0;34m]\u001b[0m \u001b[0;32mfor\u001b[0m \u001b[0midx\u001b[0m \u001b[0;32min\u001b[0m \u001b[0mpossibly_batched_index\u001b[0m\u001b[0;34m]\u001b[0m\u001b[0;34m\u001b[0m\u001b[0;34m\u001b[0m\u001b[0m\n\u001b[0m\u001b[1;32m     45\u001b[0m         \u001b[0;32melse\u001b[0m\u001b[0;34m:\u001b[0m\u001b[0;34m\u001b[0m\u001b[0;34m\u001b[0m\u001b[0m\n\u001b[1;32m     46\u001b[0m             \u001b[0mdata\u001b[0m \u001b[0;34m=\u001b[0m \u001b[0mself\u001b[0m\u001b[0;34m.\u001b[0m\u001b[0mdataset\u001b[0m\u001b[0;34m[\u001b[0m\u001b[0mpossibly_batched_index\u001b[0m\u001b[0;34m]\u001b[0m\u001b[0;34m\u001b[0m\u001b[0;34m\u001b[0m\u001b[0m\n",
            "\u001b[0;32m<ipython-input-10-bf4986b1bb95>\u001b[0m in \u001b[0;36m__getitem__\u001b[0;34m(self, idx)\u001b[0m\n\u001b[1;32m     41\u001b[0m \u001b[0;34m\u001b[0m\u001b[0m\n\u001b[1;32m     42\u001b[0m         \u001b[0;31m# first image\u001b[0m\u001b[0;34m\u001b[0m\u001b[0;34m\u001b[0m\u001b[0;34m\u001b[0m\u001b[0m\n\u001b[0;32m---> 43\u001b[0;31m         \u001b[0mimg1\u001b[0m\u001b[0;34m,\u001b[0m \u001b[0m_\u001b[0m \u001b[0;34m=\u001b[0m \u001b[0mnext\u001b[0m\u001b[0;34m(\u001b[0m\u001b[0mself\u001b[0m\u001b[0;34m.\u001b[0m\u001b[0miter1\u001b[0m\u001b[0;34m)\u001b[0m\u001b[0;34m\u001b[0m\u001b[0;34m\u001b[0m\u001b[0m\n\u001b[0m\u001b[1;32m     44\u001b[0m \u001b[0;34m\u001b[0m\u001b[0m\n\u001b[1;32m     45\u001b[0m         \u001b[0;31m# remove the batch dim\u001b[0m\u001b[0;34m\u001b[0m\u001b[0;34m\u001b[0m\u001b[0;34m\u001b[0m\u001b[0m\n",
            "\u001b[0;32m/usr/local/lib/python3.6/dist-packages/torch/utils/data/dataloader.py\u001b[0m in \u001b[0;36m__next__\u001b[0;34m(self)\u001b[0m\n\u001b[1;32m    433\u001b[0m         \u001b[0;32mif\u001b[0m \u001b[0mself\u001b[0m\u001b[0;34m.\u001b[0m\u001b[0m_sampler_iter\u001b[0m \u001b[0;32mis\u001b[0m \u001b[0;32mNone\u001b[0m\u001b[0;34m:\u001b[0m\u001b[0;34m\u001b[0m\u001b[0;34m\u001b[0m\u001b[0m\n\u001b[1;32m    434\u001b[0m             \u001b[0mself\u001b[0m\u001b[0;34m.\u001b[0m\u001b[0m_reset\u001b[0m\u001b[0;34m(\u001b[0m\u001b[0;34m)\u001b[0m\u001b[0;34m\u001b[0m\u001b[0;34m\u001b[0m\u001b[0m\n\u001b[0;32m--> 435\u001b[0;31m         \u001b[0mdata\u001b[0m \u001b[0;34m=\u001b[0m \u001b[0mself\u001b[0m\u001b[0;34m.\u001b[0m\u001b[0m_next_data\u001b[0m\u001b[0;34m(\u001b[0m\u001b[0;34m)\u001b[0m\u001b[0;34m\u001b[0m\u001b[0;34m\u001b[0m\u001b[0m\n\u001b[0m\u001b[1;32m    436\u001b[0m         \u001b[0mself\u001b[0m\u001b[0;34m.\u001b[0m\u001b[0m_num_yielded\u001b[0m \u001b[0;34m+=\u001b[0m \u001b[0;36m1\u001b[0m\u001b[0;34m\u001b[0m\u001b[0;34m\u001b[0m\u001b[0m\n\u001b[1;32m    437\u001b[0m         \u001b[0;32mif\u001b[0m \u001b[0mself\u001b[0m\u001b[0;34m.\u001b[0m\u001b[0m_dataset_kind\u001b[0m \u001b[0;34m==\u001b[0m \u001b[0m_DatasetKind\u001b[0m\u001b[0;34m.\u001b[0m\u001b[0mIterable\u001b[0m \u001b[0;32mand\u001b[0m\u001b[0;31m \u001b[0m\u001b[0;31m\\\u001b[0m\u001b[0;34m\u001b[0m\u001b[0;34m\u001b[0m\u001b[0m\n",
            "\u001b[0;32m/usr/local/lib/python3.6/dist-packages/torch/utils/data/dataloader.py\u001b[0m in \u001b[0;36m_next_data\u001b[0;34m(self)\u001b[0m\n\u001b[1;32m    473\u001b[0m     \u001b[0;32mdef\u001b[0m \u001b[0m_next_data\u001b[0m\u001b[0;34m(\u001b[0m\u001b[0mself\u001b[0m\u001b[0;34m)\u001b[0m\u001b[0;34m:\u001b[0m\u001b[0;34m\u001b[0m\u001b[0;34m\u001b[0m\u001b[0m\n\u001b[1;32m    474\u001b[0m         \u001b[0mindex\u001b[0m \u001b[0;34m=\u001b[0m \u001b[0mself\u001b[0m\u001b[0;34m.\u001b[0m\u001b[0m_next_index\u001b[0m\u001b[0;34m(\u001b[0m\u001b[0;34m)\u001b[0m  \u001b[0;31m# may raise StopIteration\u001b[0m\u001b[0;34m\u001b[0m\u001b[0;34m\u001b[0m\u001b[0m\n\u001b[0;32m--> 475\u001b[0;31m         \u001b[0mdata\u001b[0m \u001b[0;34m=\u001b[0m \u001b[0mself\u001b[0m\u001b[0;34m.\u001b[0m\u001b[0m_dataset_fetcher\u001b[0m\u001b[0;34m.\u001b[0m\u001b[0mfetch\u001b[0m\u001b[0;34m(\u001b[0m\u001b[0mindex\u001b[0m\u001b[0;34m)\u001b[0m  \u001b[0;31m# may raise StopIteration\u001b[0m\u001b[0;34m\u001b[0m\u001b[0;34m\u001b[0m\u001b[0m\n\u001b[0m\u001b[1;32m    476\u001b[0m         \u001b[0;32mif\u001b[0m \u001b[0mself\u001b[0m\u001b[0;34m.\u001b[0m\u001b[0m_pin_memory\u001b[0m\u001b[0;34m:\u001b[0m\u001b[0;34m\u001b[0m\u001b[0;34m\u001b[0m\u001b[0m\n\u001b[1;32m    477\u001b[0m             \u001b[0mdata\u001b[0m \u001b[0;34m=\u001b[0m \u001b[0m_utils\u001b[0m\u001b[0;34m.\u001b[0m\u001b[0mpin_memory\u001b[0m\u001b[0;34m.\u001b[0m\u001b[0mpin_memory\u001b[0m\u001b[0;34m(\u001b[0m\u001b[0mdata\u001b[0m\u001b[0;34m)\u001b[0m\u001b[0;34m\u001b[0m\u001b[0;34m\u001b[0m\u001b[0m\n",
            "\u001b[0;32m/usr/local/lib/python3.6/dist-packages/torch/utils/data/_utils/fetch.py\u001b[0m in \u001b[0;36mfetch\u001b[0;34m(self, possibly_batched_index)\u001b[0m\n\u001b[1;32m     42\u001b[0m     \u001b[0;32mdef\u001b[0m \u001b[0mfetch\u001b[0m\u001b[0;34m(\u001b[0m\u001b[0mself\u001b[0m\u001b[0;34m,\u001b[0m \u001b[0mpossibly_batched_index\u001b[0m\u001b[0;34m)\u001b[0m\u001b[0;34m:\u001b[0m\u001b[0;34m\u001b[0m\u001b[0;34m\u001b[0m\u001b[0m\n\u001b[1;32m     43\u001b[0m         \u001b[0;32mif\u001b[0m \u001b[0mself\u001b[0m\u001b[0;34m.\u001b[0m\u001b[0mauto_collation\u001b[0m\u001b[0;34m:\u001b[0m\u001b[0;34m\u001b[0m\u001b[0;34m\u001b[0m\u001b[0m\n\u001b[0;32m---> 44\u001b[0;31m             \u001b[0mdata\u001b[0m \u001b[0;34m=\u001b[0m \u001b[0;34m[\u001b[0m\u001b[0mself\u001b[0m\u001b[0;34m.\u001b[0m\u001b[0mdataset\u001b[0m\u001b[0;34m[\u001b[0m\u001b[0midx\u001b[0m\u001b[0;34m]\u001b[0m \u001b[0;32mfor\u001b[0m \u001b[0midx\u001b[0m \u001b[0;32min\u001b[0m \u001b[0mpossibly_batched_index\u001b[0m\u001b[0;34m]\u001b[0m\u001b[0;34m\u001b[0m\u001b[0;34m\u001b[0m\u001b[0m\n\u001b[0m\u001b[1;32m     45\u001b[0m         \u001b[0;32melse\u001b[0m\u001b[0;34m:\u001b[0m\u001b[0;34m\u001b[0m\u001b[0;34m\u001b[0m\u001b[0m\n\u001b[1;32m     46\u001b[0m             \u001b[0mdata\u001b[0m \u001b[0;34m=\u001b[0m \u001b[0mself\u001b[0m\u001b[0;34m.\u001b[0m\u001b[0mdataset\u001b[0m\u001b[0;34m[\u001b[0m\u001b[0mpossibly_batched_index\u001b[0m\u001b[0;34m]\u001b[0m\u001b[0;34m\u001b[0m\u001b[0;34m\u001b[0m\u001b[0m\n",
            "\u001b[0;32m/usr/local/lib/python3.6/dist-packages/torch/utils/data/_utils/fetch.py\u001b[0m in \u001b[0;36m<listcomp>\u001b[0;34m(.0)\u001b[0m\n\u001b[1;32m     42\u001b[0m     \u001b[0;32mdef\u001b[0m \u001b[0mfetch\u001b[0m\u001b[0;34m(\u001b[0m\u001b[0mself\u001b[0m\u001b[0;34m,\u001b[0m \u001b[0mpossibly_batched_index\u001b[0m\u001b[0;34m)\u001b[0m\u001b[0;34m:\u001b[0m\u001b[0;34m\u001b[0m\u001b[0;34m\u001b[0m\u001b[0m\n\u001b[1;32m     43\u001b[0m         \u001b[0;32mif\u001b[0m \u001b[0mself\u001b[0m\u001b[0;34m.\u001b[0m\u001b[0mauto_collation\u001b[0m\u001b[0;34m:\u001b[0m\u001b[0;34m\u001b[0m\u001b[0;34m\u001b[0m\u001b[0m\n\u001b[0;32m---> 44\u001b[0;31m             \u001b[0mdata\u001b[0m \u001b[0;34m=\u001b[0m \u001b[0;34m[\u001b[0m\u001b[0mself\u001b[0m\u001b[0;34m.\u001b[0m\u001b[0mdataset\u001b[0m\u001b[0;34m[\u001b[0m\u001b[0midx\u001b[0m\u001b[0;34m]\u001b[0m \u001b[0;32mfor\u001b[0m \u001b[0midx\u001b[0m \u001b[0;32min\u001b[0m \u001b[0mpossibly_batched_index\u001b[0m\u001b[0;34m]\u001b[0m\u001b[0;34m\u001b[0m\u001b[0;34m\u001b[0m\u001b[0m\n\u001b[0m\u001b[1;32m     45\u001b[0m         \u001b[0;32melse\u001b[0m\u001b[0;34m:\u001b[0m\u001b[0;34m\u001b[0m\u001b[0;34m\u001b[0m\u001b[0m\n\u001b[1;32m     46\u001b[0m             \u001b[0mdata\u001b[0m \u001b[0;34m=\u001b[0m \u001b[0mself\u001b[0m\u001b[0;34m.\u001b[0m\u001b[0mdataset\u001b[0m\u001b[0;34m[\u001b[0m\u001b[0mpossibly_batched_index\u001b[0m\u001b[0;34m]\u001b[0m\u001b[0;34m\u001b[0m\u001b[0;34m\u001b[0m\u001b[0m\n",
            "\u001b[0;32m/usr/local/lib/python3.6/dist-packages/torchvision/datasets/mnist.py\u001b[0m in \u001b[0;36m__getitem__\u001b[0;34m(self, index)\u001b[0m\n\u001b[1;32m    104\u001b[0m \u001b[0;34m\u001b[0m\u001b[0m\n\u001b[1;32m    105\u001b[0m         \u001b[0;32mif\u001b[0m \u001b[0mself\u001b[0m\u001b[0;34m.\u001b[0m\u001b[0mtransform\u001b[0m \u001b[0;32mis\u001b[0m \u001b[0;32mnot\u001b[0m \u001b[0;32mNone\u001b[0m\u001b[0;34m:\u001b[0m\u001b[0;34m\u001b[0m\u001b[0;34m\u001b[0m\u001b[0m\n\u001b[0;32m--> 106\u001b[0;31m             \u001b[0mimg\u001b[0m \u001b[0;34m=\u001b[0m \u001b[0mself\u001b[0m\u001b[0;34m.\u001b[0m\u001b[0mtransform\u001b[0m\u001b[0;34m(\u001b[0m\u001b[0mimg\u001b[0m\u001b[0;34m)\u001b[0m\u001b[0;34m\u001b[0m\u001b[0;34m\u001b[0m\u001b[0m\n\u001b[0m\u001b[1;32m    107\u001b[0m \u001b[0;34m\u001b[0m\u001b[0m\n\u001b[1;32m    108\u001b[0m         \u001b[0;32mif\u001b[0m \u001b[0mself\u001b[0m\u001b[0;34m.\u001b[0m\u001b[0mtarget_transform\u001b[0m \u001b[0;32mis\u001b[0m \u001b[0;32mnot\u001b[0m \u001b[0;32mNone\u001b[0m\u001b[0;34m:\u001b[0m\u001b[0;34m\u001b[0m\u001b[0;34m\u001b[0m\u001b[0m\n",
            "\u001b[0;32m/usr/local/lib/python3.6/dist-packages/torchvision/transforms/transforms.py\u001b[0m in \u001b[0;36m__call__\u001b[0;34m(self, img)\u001b[0m\n\u001b[1;32m     65\u001b[0m     \u001b[0;32mdef\u001b[0m \u001b[0m__call__\u001b[0m\u001b[0;34m(\u001b[0m\u001b[0mself\u001b[0m\u001b[0;34m,\u001b[0m \u001b[0mimg\u001b[0m\u001b[0;34m)\u001b[0m\u001b[0;34m:\u001b[0m\u001b[0;34m\u001b[0m\u001b[0;34m\u001b[0m\u001b[0m\n\u001b[1;32m     66\u001b[0m         \u001b[0;32mfor\u001b[0m \u001b[0mt\u001b[0m \u001b[0;32min\u001b[0m \u001b[0mself\u001b[0m\u001b[0;34m.\u001b[0m\u001b[0mtransforms\u001b[0m\u001b[0;34m:\u001b[0m\u001b[0;34m\u001b[0m\u001b[0;34m\u001b[0m\u001b[0m\n\u001b[0;32m---> 67\u001b[0;31m             \u001b[0mimg\u001b[0m \u001b[0;34m=\u001b[0m \u001b[0mt\u001b[0m\u001b[0;34m(\u001b[0m\u001b[0mimg\u001b[0m\u001b[0;34m)\u001b[0m\u001b[0;34m\u001b[0m\u001b[0;34m\u001b[0m\u001b[0m\n\u001b[0m\u001b[1;32m     68\u001b[0m         \u001b[0;32mreturn\u001b[0m \u001b[0mimg\u001b[0m\u001b[0;34m\u001b[0m\u001b[0;34m\u001b[0m\u001b[0m\n\u001b[1;32m     69\u001b[0m \u001b[0;34m\u001b[0m\u001b[0m\n",
            "\u001b[0;32m/usr/local/lib/python3.6/dist-packages/torch/nn/modules/module.py\u001b[0m in \u001b[0;36m_call_impl\u001b[0;34m(self, *input, **kwargs)\u001b[0m\n\u001b[1;32m    725\u001b[0m             \u001b[0mresult\u001b[0m \u001b[0;34m=\u001b[0m \u001b[0mself\u001b[0m\u001b[0;34m.\u001b[0m\u001b[0m_slow_forward\u001b[0m\u001b[0;34m(\u001b[0m\u001b[0;34m*\u001b[0m\u001b[0minput\u001b[0m\u001b[0;34m,\u001b[0m \u001b[0;34m**\u001b[0m\u001b[0mkwargs\u001b[0m\u001b[0;34m)\u001b[0m\u001b[0;34m\u001b[0m\u001b[0;34m\u001b[0m\u001b[0m\n\u001b[1;32m    726\u001b[0m         \u001b[0;32melse\u001b[0m\u001b[0;34m:\u001b[0m\u001b[0;34m\u001b[0m\u001b[0;34m\u001b[0m\u001b[0m\n\u001b[0;32m--> 727\u001b[0;31m             \u001b[0mresult\u001b[0m \u001b[0;34m=\u001b[0m \u001b[0mself\u001b[0m\u001b[0;34m.\u001b[0m\u001b[0mforward\u001b[0m\u001b[0;34m(\u001b[0m\u001b[0;34m*\u001b[0m\u001b[0minput\u001b[0m\u001b[0;34m,\u001b[0m \u001b[0;34m**\u001b[0m\u001b[0mkwargs\u001b[0m\u001b[0;34m)\u001b[0m\u001b[0;34m\u001b[0m\u001b[0;34m\u001b[0m\u001b[0m\n\u001b[0m\u001b[1;32m    728\u001b[0m         for hook in itertools.chain(\n\u001b[1;32m    729\u001b[0m                 \u001b[0m_global_forward_hooks\u001b[0m\u001b[0;34m.\u001b[0m\u001b[0mvalues\u001b[0m\u001b[0;34m(\u001b[0m\u001b[0;34m)\u001b[0m\u001b[0;34m,\u001b[0m\u001b[0;34m\u001b[0m\u001b[0;34m\u001b[0m\u001b[0m\n",
            "\u001b[0;32m/usr/local/lib/python3.6/dist-packages/torchvision/transforms/transforms.py\u001b[0m in \u001b[0;36mforward\u001b[0;34m(self, tensor)\u001b[0m\n\u001b[1;32m    224\u001b[0m             \u001b[0mTensor\u001b[0m\u001b[0;34m:\u001b[0m \u001b[0mNormalized\u001b[0m \u001b[0mTensor\u001b[0m \u001b[0mimage\u001b[0m\u001b[0;34m.\u001b[0m\u001b[0;34m\u001b[0m\u001b[0;34m\u001b[0m\u001b[0m\n\u001b[1;32m    225\u001b[0m         \"\"\"\n\u001b[0;32m--> 226\u001b[0;31m         \u001b[0;32mreturn\u001b[0m \u001b[0mF\u001b[0m\u001b[0;34m.\u001b[0m\u001b[0mnormalize\u001b[0m\u001b[0;34m(\u001b[0m\u001b[0mtensor\u001b[0m\u001b[0;34m,\u001b[0m \u001b[0mself\u001b[0m\u001b[0;34m.\u001b[0m\u001b[0mmean\u001b[0m\u001b[0;34m,\u001b[0m \u001b[0mself\u001b[0m\u001b[0;34m.\u001b[0m\u001b[0mstd\u001b[0m\u001b[0;34m,\u001b[0m \u001b[0mself\u001b[0m\u001b[0;34m.\u001b[0m\u001b[0minplace\u001b[0m\u001b[0;34m)\u001b[0m\u001b[0;34m\u001b[0m\u001b[0;34m\u001b[0m\u001b[0m\n\u001b[0m\u001b[1;32m    227\u001b[0m \u001b[0;34m\u001b[0m\u001b[0m\n\u001b[1;32m    228\u001b[0m     \u001b[0;32mdef\u001b[0m \u001b[0m__repr__\u001b[0m\u001b[0;34m(\u001b[0m\u001b[0mself\u001b[0m\u001b[0;34m)\u001b[0m\u001b[0;34m:\u001b[0m\u001b[0;34m\u001b[0m\u001b[0;34m\u001b[0m\u001b[0m\n",
            "\u001b[0;32m/usr/local/lib/python3.6/dist-packages/torchvision/transforms/functional.py\u001b[0m in \u001b[0;36mnormalize\u001b[0;34m(tensor, mean, std, inplace)\u001b[0m\n\u001b[1;32m    276\u001b[0m     \u001b[0mmean\u001b[0m \u001b[0;34m=\u001b[0m \u001b[0mtorch\u001b[0m\u001b[0;34m.\u001b[0m\u001b[0mas_tensor\u001b[0m\u001b[0;34m(\u001b[0m\u001b[0mmean\u001b[0m\u001b[0;34m,\u001b[0m \u001b[0mdtype\u001b[0m\u001b[0;34m=\u001b[0m\u001b[0mdtype\u001b[0m\u001b[0;34m,\u001b[0m \u001b[0mdevice\u001b[0m\u001b[0;34m=\u001b[0m\u001b[0mtensor\u001b[0m\u001b[0;34m.\u001b[0m\u001b[0mdevice\u001b[0m\u001b[0;34m)\u001b[0m\u001b[0;34m\u001b[0m\u001b[0;34m\u001b[0m\u001b[0m\n\u001b[1;32m    277\u001b[0m     \u001b[0mstd\u001b[0m \u001b[0;34m=\u001b[0m \u001b[0mtorch\u001b[0m\u001b[0;34m.\u001b[0m\u001b[0mas_tensor\u001b[0m\u001b[0;34m(\u001b[0m\u001b[0mstd\u001b[0m\u001b[0;34m,\u001b[0m \u001b[0mdtype\u001b[0m\u001b[0;34m=\u001b[0m\u001b[0mdtype\u001b[0m\u001b[0;34m,\u001b[0m \u001b[0mdevice\u001b[0m\u001b[0;34m=\u001b[0m\u001b[0mtensor\u001b[0m\u001b[0;34m.\u001b[0m\u001b[0mdevice\u001b[0m\u001b[0;34m)\u001b[0m\u001b[0;34m\u001b[0m\u001b[0;34m\u001b[0m\u001b[0m\n\u001b[0;32m--> 278\u001b[0;31m     \u001b[0;32mif\u001b[0m \u001b[0;34m(\u001b[0m\u001b[0mstd\u001b[0m \u001b[0;34m==\u001b[0m \u001b[0;36m0\u001b[0m\u001b[0;34m)\u001b[0m\u001b[0;34m.\u001b[0m\u001b[0many\u001b[0m\u001b[0;34m(\u001b[0m\u001b[0;34m)\u001b[0m\u001b[0;34m:\u001b[0m\u001b[0;34m\u001b[0m\u001b[0;34m\u001b[0m\u001b[0m\n\u001b[0m\u001b[1;32m    279\u001b[0m         \u001b[0;32mraise\u001b[0m \u001b[0mValueError\u001b[0m\u001b[0;34m(\u001b[0m\u001b[0;34m'std evaluated to zero after conversion to {}, leading to division by zero.'\u001b[0m\u001b[0;34m.\u001b[0m\u001b[0mformat\u001b[0m\u001b[0;34m(\u001b[0m\u001b[0mdtype\u001b[0m\u001b[0;34m)\u001b[0m\u001b[0;34m)\u001b[0m\u001b[0;34m\u001b[0m\u001b[0;34m\u001b[0m\u001b[0m\n\u001b[1;32m    280\u001b[0m     \u001b[0;32mif\u001b[0m \u001b[0mmean\u001b[0m\u001b[0;34m.\u001b[0m\u001b[0mndim\u001b[0m \u001b[0;34m==\u001b[0m \u001b[0;36m1\u001b[0m\u001b[0;34m:\u001b[0m\u001b[0;34m\u001b[0m\u001b[0;34m\u001b[0m\u001b[0m\n",
            "\u001b[0;32m/usr/local/lib/python3.6/dist-packages/torch/tensor.py\u001b[0m in \u001b[0;36mwrapped\u001b[0;34m(*args, **kwargs)\u001b[0m\n\u001b[1;32m     25\u001b[0m             \u001b[0;32mreturn\u001b[0m \u001b[0mhandle_torch_function\u001b[0m\u001b[0;34m(\u001b[0m\u001b[0mwrapped\u001b[0m\u001b[0;34m,\u001b[0m \u001b[0margs\u001b[0m\u001b[0;34m,\u001b[0m \u001b[0;34m*\u001b[0m\u001b[0margs\u001b[0m\u001b[0;34m,\u001b[0m \u001b[0;34m**\u001b[0m\u001b[0mkwargs\u001b[0m\u001b[0;34m)\u001b[0m\u001b[0;34m\u001b[0m\u001b[0;34m\u001b[0m\u001b[0m\n\u001b[1;32m     26\u001b[0m         \u001b[0;32mtry\u001b[0m\u001b[0;34m:\u001b[0m\u001b[0;34m\u001b[0m\u001b[0;34m\u001b[0m\u001b[0m\n\u001b[0;32m---> 27\u001b[0;31m             \u001b[0;32mreturn\u001b[0m \u001b[0mf\u001b[0m\u001b[0;34m(\u001b[0m\u001b[0;34m*\u001b[0m\u001b[0margs\u001b[0m\u001b[0;34m,\u001b[0m \u001b[0;34m**\u001b[0m\u001b[0mkwargs\u001b[0m\u001b[0;34m)\u001b[0m\u001b[0;34m\u001b[0m\u001b[0;34m\u001b[0m\u001b[0m\n\u001b[0m\u001b[1;32m     28\u001b[0m         \u001b[0;32mexcept\u001b[0m \u001b[0mTypeError\u001b[0m\u001b[0;34m:\u001b[0m\u001b[0;34m\u001b[0m\u001b[0;34m\u001b[0m\u001b[0m\n\u001b[1;32m     29\u001b[0m             \u001b[0;32mreturn\u001b[0m \u001b[0mNotImplemented\u001b[0m\u001b[0;34m\u001b[0m\u001b[0;34m\u001b[0m\u001b[0m\n",
            "\u001b[0;31mKeyboardInterrupt\u001b[0m: "
          ]
        }
      ]
    },
    {
      "cell_type": "code",
      "metadata": {
        "id": "Zg73zD-UZwUu"
      },
      "source": [
        ""
      ],
      "execution_count": null,
      "outputs": []
    },
    {
      "cell_type": "code",
      "metadata": {
        "id": "dAmpkvXgce67"
      },
      "source": [
        ""
      ],
      "execution_count": null,
      "outputs": []
    },
    {
      "cell_type": "code",
      "metadata": {
        "colab": {
          "base_uri": "https://localhost:8080/",
          "height": 199
        },
        "id": "bfHVIr4wce8_",
        "outputId": "0659cf0f-6ed0-4bf3-d47b-34045ff18b44"
      },
      "source": [
        "counter = 0\r\n",
        "for imgs1,imgs2,label in tl:\r\n",
        "  imgs1 = imgs1[0:1]\r\n",
        "  imgs2 = imgs2[10:11]\r\n",
        "\r\n",
        "  output1,output2 = model(imgs1.to(DEVICE),imgs2.to(DEVICE))\r\n",
        "  distance = nn.functional.pairwise_distance(output1,output2)\r\n",
        "\r\n",
        "  plt.subplot(1,2,1)\r\n",
        "  plt.imshow(imgs1[0][0],cmap='gray')\r\n",
        "  plt.axis('off')\r\n",
        "  # plt.title('label = ' + str(label[0].item()) )\r\n",
        "\r\n",
        "  plt.subplot(1,2,2)\r\n",
        "  plt.imshow(imgs2[0][0],cmap='gray')\r\n",
        "  plt.axis('off')\r\n",
        "  plt.title('similarity = ' + str(distance[0].item()) )\r\n",
        "\r\n",
        "  break"
      ],
      "execution_count": null,
      "outputs": [
        {
          "output_type": "display_data",
          "data": {
            "image/png": "[encoded data removed]",
            "text/plain": [
              "<Figure size 432x288 with 2 Axes>"
            ]
          },
          "metadata": {
            "tags": [],
            "needs_background": "light"
          }
        }
      ]
    },
    {
      "cell_type": "code",
      "metadata": {
        "colab": {
          "base_uri": "https://localhost:8080/"
        },
        "id": "d__xydj1cfAR",
        "outputId": "7720dbe4-8f86-4c82-e402-c5b119aa111c"
      },
      "source": [
        "nn.functional.pairwise_distance(   output1,output2 )[0]"
      ],
      "execution_count": null,
      "outputs": [
        {
          "output_type": "execute_result",
          "data": {
            "text/plain": [
              "tensor(2.1510, grad_fn=<SelectBackward>)"
            ]
          },
          "metadata": {
            "tags": []
          },
          "execution_count": 18
        }
      ]
    },
    {
      "cell_type": "code",
      "metadata": {
        "colab": {
          "base_uri": "https://localhost:8080/"
        },
        "id": "WQ1r4eHqiQBV",
        "outputId": "c5e627d1-97b2-4730-89a0-e857a327dd47"
      },
      "source": [
        "torch.pow(torch.sum(torch.pow((output1[0]-output2[0]),2)),0.5)"
      ],
      "execution_count": null,
      "outputs": [
        {
          "output_type": "execute_result",
          "data": {
            "text/plain": [
              "tensor(2.1510, grad_fn=<PowBackward0>)"
            ]
          },
          "metadata": {
            "tags": []
          },
          "execution_count": 19
        }
      ]
    },
    {
      "cell_type": "code",
      "metadata": {
        "id": "ihw717s4jdRf"
      },
      "source": [
        ""
      ],
      "execution_count": null,
      "outputs": []
    },
    {
      "cell_type": "code",
      "metadata": {
        "id": "-EywH1qXqja4"
      },
      "source": [
        ""
      ],
      "execution_count": null,
      "outputs": []
    },
    {
      "cell_type": "code",
      "metadata": {
        "id": "JINWurJsqjfN"
      },
      "source": [
        ""
      ],
      "execution_count": null,
      "outputs": []
    },
    {
      "cell_type": "code",
      "metadata": {
        "id": "-NTiyMpdqjiq"
      },
      "source": [
        ""
      ],
      "execution_count": null,
      "outputs": []
    }
  ]
}